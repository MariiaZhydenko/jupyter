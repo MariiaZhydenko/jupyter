{
 "cells": [
  {
   "cell_type": "code",
   "execution_count": 10,
   "metadata": {},
   "outputs": [],
   "source": [
    "import numpy as np\n"
   ]
  },
  {
   "cell_type": "code",
   "execution_count": 11,
   "metadata": {},
   "outputs": [
    {
     "name": "stdout",
     "output_type": "stream",
     "text": [
      "5 7\n",
      "[[1 0 0 2 3 4 5]\n",
      " [2 1 0 0 4 5 5]\n",
      " [2 4 1 0 0 7 8]\n",
      " [1 3 6 1 1 1 3]\n",
      " [1 6 7 8 1 1 2]]\n",
      "5\n"
     ]
    }
   ],
   "source": [
    "arr, b = [], []\n",
    "with open('matrix.txt', 'r') as f:\n",
    "    for l in f.readlines():\n",
    "        tmp = l.split(\"|\")\n",
    "        b.append(int(tmp[1].rstrip()))\n",
    "        arr.append([int(n) for n in ''.join(tmp[0].split())])\n",
    "        del tmp\n",
    "    arr, b = np.array(arr), np.array(b)\n",
    "n,m = arr.shape\n",
    "print(n,m)\n",
    "print(arr)\n",
    "print(sum(list(arr[i][j] for i in range(0, n) for j in range(0, m) if i == j)))\n"
   ]
  },
  {
   "cell_type": "code",
   "execution_count": 14,
   "metadata": {},
   "outputs": [
    {
     "name": "stdout",
     "output_type": "stream",
     "text": [
      "[[0. 0. 0. 0. 0. 0. 0.]\n",
      " [0. 0. 0. 0. 0. 0. 0.]\n",
      " [0. 0. 0. 0. 0. 0. 0.]\n",
      " [0. 0. 0. 0. 0. 0. 0.]\n",
      " [0. 0. 0. 0. 0. 0. 0.]]\n"
     ]
    }
   ],
   "source": [
    "s = sum(arr[i][j] for i in range(0, n) for j in range(0, m) if i != j)\n",
    "z = [arr[i][j] for i in range(0, n) for j in range(0, m) if i == j and arr[i][j] >= s and arr[i][j] > 0 ]\n",
    "A1 = np.zeros((n, m))\n",
    "print(A1)\n",
    "\n",
    "\n",
    "if len(z):\n",
    "    pass\n",
    "    \n",
    "#          if (z = 0) then\n",
    "#            begin\n",
    "#              for i := 1 to n do\n",
    "#                begin\n",
    "#                  for j := 1 to n do\n",
    "#                    if (i = j) then\n",
    "#                      A1[i, j] := 0\n",
    "#                    else\n",
    "#                      A1[i, j] := -(A[i, j]/A[i, i]);\n",
    "#                  b1[i] := b[i]/A[i, i];\n",
    "#                end;\n",
    "\n",
    "#              for i := 1 to n do\n",
    "#                X0[i] := b1[i];\n",
    "#              k := 0;\n",
    "#              repeat\n",
    "#                max := 0;\n",
    "#                for i := 1 to n do\n",
    "#                  begin\n",
    "#                    S := 0;\n",
    "#                    for j := 1 to n do\n",
    "#                      S := S + A1[i, j] * X0[j];\n",
    "#                    X[i] := b1[i] + S;\n",
    "#                  end;\n",
    "\n",
    "#                for i := 1 to n do\n",
    "#                  begin\n",
    "#                    if (abs(X[i]-X0[i]) > max) then\n",
    "#                      max := abs(X[i]-X0[i]);\n",
    "#                    X0[i] := X[i];\n",
    "#                  end;\n",
    "#                k := k + 1;\n",
    "#              until (max < 0.0001) or (k > 100);\n",
    "\n",
    "\n",
    "#              Memo1.Lines[0] := 'Â³äïîâ³äü:';\n",
    "#              for i := 1 to n do\n",
    "#                Memo1.Lines.Add('X[' + IntToStr(i) + '] = ' + FloatToStr(X[i]));\n",
    "#            end\n",
    "#          else"
   ]
  },
  {
   "cell_type": "code",
   "execution_count": 5,
   "metadata": {},
   "outputs": [],
   "source": [
    "if np.linalg.det(arr) !=0:\n",
    "    pass\n",
    "else:\n",
    "    print(\"det=0:(\")"
   ]
  },
  {
   "cell_type": "code",
   "execution_count": 12,
   "metadata": {},
   "outputs": [
    {
     "ename": "SyntaxError",
     "evalue": "invalid syntax (<ipython-input-12-7e2f8f2d309f>, line 2)",
     "output_type": "error",
     "traceback": [
      "\u001b[0;36m  File \u001b[0;32m\"<ipython-input-12-7e2f8f2d309f>\"\u001b[0;36m, line \u001b[0;32m2\u001b[0m\n\u001b[0;31m    z++\u001b[0m\n\u001b[0m       ^\u001b[0m\n\u001b[0;31mSyntaxError\u001b[0m\u001b[0;31m:\u001b[0m invalid syntax\n"
     ]
    }
   ],
   "source": []
  },
  {
   "cell_type": "code",
   "execution_count": 5,
   "metadata": {},
   "outputs": [
    {
     "data": {
      "text/plain": [
       "86"
      ]
     },
     "execution_count": 5,
     "metadata": {},
     "output_type": "execute_result"
    }
   ],
   "source": [
    "119-33"
   ]
  },
  {
   "cell_type": "code",
   "execution_count": null,
   "metadata": {},
   "outputs": [],
   "source": []
  }
 ],
 "metadata": {
  "kernelspec": {
   "display_name": "Python 3",
   "language": "python",
   "name": "python3"
  },
  "language_info": {
   "codemirror_mode": {
    "name": "ipython",
    "version": 3
   },
   "file_extension": ".py",
   "mimetype": "text/x-python",
   "name": "python",
   "nbconvert_exporter": "python",
   "pygments_lexer": "ipython3",
   "version": "3.5.2"
  }
 },
 "nbformat": 4,
 "nbformat_minor": 2
}
