{
 "cells": [
  {
   "cell_type": "code",
   "execution_count": 12,
   "metadata": {},
   "outputs": [],
   "source": [
    "#6 метод мінімального відхилення\n",
    "import numpy as np\n",
    "import scipy.sparse.linalg as spla"
   ]
  },
  {
   "cell_type": "code",
   "execution_count": 13,
   "metadata": {},
   "outputs": [
    {
     "name": "stdout",
     "output_type": "stream",
     "text": [
      "[[10, 2, 3, 1], [3, 50, 7, 1], [1, 3, 40, 2], [1, 2, 3, 20]] [3 0 1 2]\n"
     ]
    }
   ],
   "source": [
    "b = []\n",
    "arr = []\n",
    "with open('matrix.txt', 'r') as f:\n",
    "    for l in f.readlines():\n",
    "        tmp = l.split(\"|\")\n",
    "        b.append(int(tmp[1].rstrip()))\n",
    "        arr.append([int(n) for n in tmp[0].strip().split(' ')])\n",
    "        del tmp\n",
    "    A = np.array(arr)\n",
    "    b = np.array(b)\n",
    "print(arr, b)\n",
    "\n",
    "eps = 0.0000000005"
   ]
  },
  {
   "cell_type": "code",
   "execution_count": 14,
   "metadata": {},
   "outputs": [
    {
     "name": "stdout",
     "output_type": "stream",
     "text": [
      "Вектор розвязку:  [ 0.29121095 -0.02128596  0.01505065  0.08531045]\n",
      "Кількість ітерацій: 48\n",
      "\n"
     ]
    }
   ],
   "source": [
    "x = b\n",
    "k = 1\n",
    "r = np.asarray(np.dot(A, x)) - b\n",
    "xk = np.zeros(x.shape)\n",
    "while np.linalg.norm(x-xk)>=eps:\n",
    "    xk = x\n",
    "    Ar = np.dot(A, r)\n",
    "    t = np.dot(Ar, r) / np.dot(Ar, Ar)\n",
    "    x = x - np.dot(t,r)\n",
    "    r = np.dot(A, x) - b\n",
    "    k += 1\n",
    "    \n",
    "print('Вектор розвязку: ', x )\n",
    "print('Кількість ітерацій:', k)\n",
    "print()"
   ]
  },
  {
   "cell_type": "code",
   "execution_count": 15,
   "metadata": {},
   "outputs": [
    {
     "data": {
      "text/plain": [
       "(array([ 0.29121095, -0.02128596,  0.01505065,  0.08531045]), 0)"
      ]
     },
     "execution_count": 15,
     "metadata": {},
     "output_type": "execute_result"
    }
   ],
   "source": [
    "spla.gmres(A, b, b)"
   ]
  },
  {
   "cell_type": "code",
   "execution_count": null,
   "metadata": {},
   "outputs": [],
   "source": []
  }
 ],
 "metadata": {
  "kernelspec": {
   "display_name": "Python 3",
   "language": "python",
   "name": "python3"
  },
  "language_info": {
   "codemirror_mode": {
    "name": "ipython",
    "version": 3
   },
   "file_extension": ".py",
   "mimetype": "text/x-python",
   "name": "python",
   "nbconvert_exporter": "python",
   "pygments_lexer": "ipython3",
   "version": "3.6.4"
  }
 },
 "nbformat": 4,
 "nbformat_minor": 2
}
