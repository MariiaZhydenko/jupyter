{
 "cells": [
  {
   "cell_type": "code",
   "execution_count": 44,
   "metadata": {},
   "outputs": [
    {
     "name": "stdout",
     "output_type": "stream",
     "text": [
      "Res\n",
      "\t 0.8556513175619358 0.8556223135099424\n"
     ]
    }
   ],
   "source": [
    "from matplotlib import mlab\n",
    "import math, random\n",
    "import scipy as sp\n",
    "\n",
    "def simpson_method(func, mim_lim, max_lim, delta):\n",
    "    def integrate(func, mim_lim, max_lim, n):\n",
    "        integral = 0.0\n",
    "        step = (max_lim - mim_lim) / n\n",
    "        for x in mlab.frange(mim_lim + step / 2, max_lim - step / 2, step):\n",
    "            integral += step / 6 * (func(x - step / 2) + 4 * func(x) + func(x + step / 2))\n",
    "        return integral\n",
    "\n",
    "    d, n = 1, 1\n",
    "    while math.fabs(d) > delta:\n",
    "        d = (integrate(func, mim_lim, max_lim, n * 2) - integrate(func, mim_lim, max_lim, n)) / 15\n",
    "        n *= 2\n",
    "\n",
    "    print ('Res')\n",
    "    print (' '.join([\n",
    "        '\\t',\n",
    "        str(math.fabs(integrate(func, mim_lim, max_lim, n))),\n",
    "        str(math.fabs(integrate(func, mim_lim, max_lim, n)) +d )]))\n",
    "\n",
    "simpson_method(lambda x: sp.exp(-0.5*x*x), 0.0, 1.0, 0.001)"
   ]
  },
  {
   "cell_type": "code",
   "execution_count": null,
   "metadata": {},
   "outputs": [],
   "source": []
  }
 ],
 "metadata": {
  "kernelspec": {
   "display_name": "Python 3",
   "language": "python",
   "name": "python3"
  },
  "language_info": {
   "codemirror_mode": {
    "name": "ipython",
    "version": 3
   },
   "file_extension": ".py",
   "mimetype": "text/x-python",
   "name": "python",
   "nbconvert_exporter": "python",
   "pygments_lexer": "ipython3",
   "version": "3.6.4"
  }
 },
 "nbformat": 4,
 "nbformat_minor": 2
}
