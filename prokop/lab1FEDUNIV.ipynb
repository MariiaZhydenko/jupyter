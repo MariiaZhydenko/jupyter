{
 "cells": [
  {
   "cell_type": "code",
   "execution_count": 13,
   "metadata": {},
   "outputs": [],
   "source": [
    "from sympy import *\n",
    "import numpy as np\n",
    "from tabulate import tabulate\n",
    "import matplotlib.pyplot as plt"
   ]
  },
  {
   "cell_type": "code",
   "execution_count": 14,
   "metadata": {},
   "outputs": [],
   "source": [
    "#create function\n",
    "x = Symbol('x')\n",
    "f = sin(x) + ln(x)"
   ]
  },
  {
   "cell_type": "code",
   "execution_count": 15,
   "metadata": {},
   "outputs": [
    {
     "data": {
      "image/png": "[encoded data removed]",
      "text/plain": [
       "<matplotlib.figure.Figure at 0x9dd310>"
      ]
     },
     "metadata": {},
     "output_type": "display_data"
    },
    {
     "data": {
      "text/plain": [
       "<sympy.plotting.plot.Plot at 0x9dd6d0>"
      ]
     },
     "execution_count": 15,
     "metadata": {},
     "output_type": "execute_result"
    }
   ],
   "source": [
    "#create plot\n",
    "plotting.plot(f)"
   ]
  },
  {
   "cell_type": "code",
   "execution_count": 16,
   "metadata": {
    "scrolled": true
   },
   "outputs": [
    {
     "name": "stdout",
     "output_type": "stream",
     "text": [
      "Enter the value a:0.1\n",
      "Enter the value b:2\n",
      "Epsilon e:0.001\n",
      "Maximum number of iterations:1000\n",
      "Step tabling:0.1\n"
     ]
    }
   ],
   "source": [
    "#input variables \n",
    "a = float(input(\"Enter the value a:\"))\n",
    "b = float(input(\"Enter the value b:\"))\n",
    "e = float(input(\"Epsilon e:\"))\n",
    "kmax = int(input(\"Maximum number of iterations:\"))\n",
    "ktab = float(input(\"Step tabling:\"))"
   ]
  },
  {
   "cell_type": "code",
   "execution_count": 17,
   "metadata": {
    "scrolled": true
   },
   "outputs": [
    {
     "name": "stdout",
     "output_type": "stream",
     "text": [
      "|    x |        f(x) |\n",
      "|------+-------------|\n",
      "| 0.1  | -2.20275    |\n",
      "| 0.11 | -2.0975     |\n",
      "| 0.12 | -2.00055    |\n",
      "| 0.13 | -1.91059    |\n",
      "| 0.14 | -1.82657    |\n",
      "| 0.15 | -1.74768    |\n",
      "| 0.16 | -1.67326    |\n",
      "| 0.17 | -1.60277    |\n",
      "| 0.18 | -1.53577    |\n",
      "| 0.19 | -1.47187    |\n",
      "| 0.2  | -1.41077    |\n",
      "| 0.21 | -1.35219    |\n",
      "| 0.22 | -1.2959     |\n",
      "| 0.23 | -1.2417     |\n",
      "| 0.24 | -1.18941    |\n",
      "| 0.25 | -1.13889    |\n",
      "| 0.26 | -1.08999    |\n",
      "| 0.27 | -1.0426     |\n",
      "| 0.28 | -0.99661    |\n",
      "| 0.29 | -0.951922   |\n",
      "| 0.3  | -0.908453   |\n",
      "| 0.31 | -0.866124   |\n",
      "| 0.32 | -0.824868   |\n",
      "| 0.33 | -0.78462    |\n",
      "| 0.34 | -0.745323   |\n",
      "| 0.35 | -0.706924   |\n",
      "| 0.36 | -0.669377   |\n",
      "| 0.37 | -0.632637   |\n",
      "| 0.38 | -0.596664   |\n",
      "| 0.39 | -0.56142    |\n",
      "| 0.4  | -0.526872   |\n",
      "| 0.41 | -0.492989   |\n",
      "| 0.42 | -0.45974    |\n",
      "| 0.43 | -0.427099   |\n",
      "| 0.44 | -0.395041   |\n",
      "| 0.45 | -0.363542   |\n",
      "| 0.46 | -0.332581   |\n",
      "| 0.47 | -0.302136   |\n",
      "| 0.48 | -0.27219    |\n",
      "| 0.49 | -0.242724   |\n",
      "| 0.5  | -0.213722   |\n",
      "| 0.51 | -0.185167   |\n",
      "| 0.52 | -0.157046   |\n",
      "| 0.53 | -0.129345   |\n",
      "| 0.54 | -0.10205    |\n",
      "| 0.55 | -0.0751498  |\n",
      "| 0.56 | -0.0486323  |\n",
      "| 0.57 | -0.0224869  |\n",
      "| 0.58 |  0.00329676 |\n",
      "| 0.59 |  0.0287283  |\n",
      "| 0.6  |  0.0538168  |\n",
      "| 0.61 |  0.0785711  |\n",
      "| 0.62 |  0.102999   |\n",
      "| 0.63 |  0.127109   |\n",
      "| 0.64 |  0.150908   |\n",
      "| 0.65 |  0.174403   |\n",
      "| 0.66 |  0.197601   |\n",
      "| 0.67 |  0.220508   |\n",
      "| 0.68 |  0.243131   |\n",
      "| 0.69 |  0.265474   |\n",
      "| 0.7  |  0.287543   |\n",
      "| 0.71 |  0.309343   |\n",
      "| 0.72 |  0.330881   |\n",
      "| 0.73 |  0.352159   |\n",
      "| 0.74 |  0.373183   |\n",
      "| 0.75 |  0.393957   |\n",
      "| 0.76 |  0.414485   |\n",
      "| 0.77 |  0.43477    |\n",
      "| 0.78 |  0.454818   |\n",
      "| 0.79 |  0.474631   |\n",
      "| 0.8  |  0.494213   |\n",
      "| 0.81 |  0.513566   |\n",
      "| 0.82 |  0.532695   |\n",
      "| 0.83 |  0.551602   |\n",
      "| 0.84 |  0.57029    |\n",
      "| 0.85 |  0.588761   |\n",
      "| 0.86 |  0.60702    |\n",
      "| 0.87 |  0.625067   |\n",
      "| 0.88 |  0.642906   |\n",
      "| 0.89 |  0.660538   |\n",
      "| 0.9  |  0.677966   |\n",
      "| 0.91 |  0.695193   |\n",
      "| 0.92 |  0.71222    |\n",
      "| 0.93 |  0.729049   |\n",
      "| 0.94 |  0.745683   |\n",
      "| 0.95 |  0.762122   |\n",
      "| 0.96 |  0.77837    |\n",
      "| 0.97 |  0.794427   |\n",
      "| 0.98 |  0.810295   |\n",
      "| 0.99 |  0.825976   |\n",
      "| 1    |  0.841471   |\n",
      "| 1.01 |  0.856782   |\n",
      "| 1.02 |  0.871911   |\n",
      "| 1.03 |  0.886858   |\n",
      "| 1.04 |  0.901625   |\n",
      "| 1.05 |  0.916213   |\n",
      "| 1.06 |  0.930624   |\n",
      "| 1.07 |  0.944859   |\n",
      "| 1.08 |  0.958919   |\n",
      "| 1.09 |  0.972805   |\n",
      "| 1.1  |  0.986518   |\n",
      "| 1.11 |  1.00006    |\n",
      "| 1.12 |  1.01343    |\n",
      "| 1.13 |  1.02663    |\n",
      "| 1.14 |  1.03966    |\n",
      "| 1.15 |  1.05253    |\n",
      "| 1.16 |  1.06522    |\n",
      "| 1.17 |  1.07775    |\n",
      "| 1.18 |  1.09012    |\n",
      "| 1.19 |  1.10232    |\n",
      "| 1.2  |  1.11436    |\n",
      "| 1.21 |  1.12624    |\n",
      "| 1.22 |  1.13795    |\n",
      "| 1.23 |  1.1495     |\n",
      "| 1.24 |  1.1609     |\n",
      "| 1.25 |  1.17213    |\n",
      "| 1.26 |  1.1832     |\n",
      "| 1.27 |  1.19412    |\n",
      "| 1.28 |  1.20488    |\n",
      "| 1.29 |  1.21548    |\n",
      "| 1.3  |  1.22592    |\n",
      "| 1.31 |  1.23621    |\n",
      "| 1.32 |  1.24635    |\n",
      "| 1.33 |  1.25633    |\n",
      "| 1.34 |  1.26615    |\n",
      "| 1.35 |  1.27583    |\n",
      "| 1.36 |  1.28535    |\n",
      "| 1.37 |  1.29472    |\n",
      "| 1.38 |  1.30394    |\n",
      "| 1.39 |  1.313      |\n",
      "| 1.4  |  1.32192    |\n",
      "| 1.41 |  1.33069    |\n",
      "| 1.42 |  1.33931    |\n",
      "| 1.43 |  1.34778    |\n",
      "| 1.44 |  1.3561     |\n",
      "| 1.45 |  1.36428    |\n",
      "| 1.46 |  1.3723     |\n",
      "| 1.47 |  1.38019    |\n",
      "| 1.48 |  1.38792    |\n",
      "| 1.49 |  1.39551    |\n",
      "| 1.5  |  1.40296    |\n",
      "| 1.51 |  1.41026    |\n",
      "| 1.52 |  1.41742    |\n",
      "| 1.53 |  1.42444    |\n",
      "| 1.54 |  1.43131    |\n",
      "| 1.55 |  1.43804    |\n",
      "| 1.56 |  1.44463    |\n",
      "| 1.57 |  1.45108    |\n",
      "| 1.58 |  1.45738    |\n",
      "| 1.59 |  1.46355    |\n",
      "| 1.6  |  1.46958    |\n",
      "| 1.61 |  1.47547    |\n",
      "| 1.62 |  1.48122    |\n",
      "| 1.63 |  1.48683    |\n",
      "| 1.64 |  1.4923     |\n",
      "| 1.65 |  1.49764    |\n",
      "| 1.66 |  1.50284    |\n",
      "| 1.67 |  1.50791    |\n",
      "| 1.68 |  1.51284    |\n",
      "| 1.69 |  1.51763    |\n",
      "| 1.7  |  1.52229    |\n",
      "| 1.71 |  1.52682    |\n",
      "| 1.72 |  1.53121    |\n",
      "| 1.73 |  1.53548    |\n",
      "| 1.74 |  1.5396     |\n",
      "| 1.75 |  1.5436     |\n",
      "| 1.76 |  1.54747    |\n",
      "| 1.77 |  1.5512     |\n",
      "| 1.78 |  1.55481    |\n",
      "| 1.79 |  1.55829    |\n",
      "| 1.8  |  1.56163    |\n",
      "| 1.81 |  1.56485    |\n",
      "| 1.82 |  1.56795    |\n",
      "| 1.83 |  1.57091    |\n",
      "| 1.84 |  1.57375    |\n",
      "| 1.85 |  1.57646    |\n",
      "| 1.86 |  1.57905    |\n",
      "| 1.87 |  1.58151    |\n",
      "| 1.88 |  1.58385    |\n",
      "| 1.89 |  1.58606    |\n",
      "| 1.9  |  1.58815    |\n",
      "| 1.91 |  1.59012    |\n",
      "| 1.92 |  1.59197    |\n",
      "| 1.93 |  1.5937     |\n",
      "| 1.94 |  1.5953     |\n",
      "| 1.95 |  1.59679    |\n",
      "| 1.96 |  1.59816    |\n",
      "| 1.97 |  1.5994     |\n",
      "| 1.98 |  1.60053    |\n",
      "| 1.99 |  1.60155    |\n"
     ]
    }
   ],
   "source": [
    "#create table function value\n",
    "fuc_list = []\n",
    "for i in np.arange(a, b, 0.01):\n",
    "    fuc_list.append([i, f.subs(x,i)])\n",
    "print (tabulate(fuc_list, headers=['x', 'f(x)'], tablefmt='orgtbl'))"
   ]
  },
  {
   "cell_type": "code",
   "execution_count": 18,
   "metadata": {},
   "outputs": [
    {
     "name": "stdout",
     "output_type": "stream",
     "text": [
      "Solution: 0.579046137685652 f(x): 0.000852697941264080\n",
      "Number of iterations: 10\n"
     ]
    }
   ],
   "source": [
    "k = 0\n",
    "x1 = a\n",
    "while abs(f.subs(x,x1)) > e:\n",
    "    if k >= kmax:\n",
    "        print(\"Кількість ітерацій перевищила максимальну \" + kmax )\n",
    "        print('Solution:',x1, \"f(x):\", f.subs(x,x1) )\n",
    "        break\n",
    "    x1 = a-(f.subs(x,a)*(a-b)/(f.subs(x,a)-f.subs(x,b)))\n",
    "    if f.subs(x,a)*f.subs(x,x1) > 0:\n",
    "        a = x1\n",
    "    else:\n",
    "        b = x1\n",
    "    k += 1 \n",
    "else:\n",
    "    print('Solution:',x1, \"f(x):\", f.subs(x,x1) )\n",
    "    print('Number of iterations:', k) "
   ]
  },
  {
   "cell_type": "code",
   "execution_count": null,
   "metadata": {},
   "outputs": [],
   "source": []
  }
 ],
 "metadata": {
  "kernelspec": {
   "display_name": "Python 3",
   "language": "python",
   "name": "python3"
  },
  "language_info": {
   "codemirror_mode": {
    "name": "ipython",
    "version": 3
   },
   "file_extension": ".py",
   "mimetype": "text/x-python",
   "name": "python",
   "nbconvert_exporter": "python",
   "pygments_lexer": "ipython3",
   "version": "3.6.4"
  }
 },
 "nbformat": 4,
 "nbformat_minor": 2
}
