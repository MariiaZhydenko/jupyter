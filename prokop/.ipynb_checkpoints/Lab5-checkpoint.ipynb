{
 "cells": [
  {
   "cell_type": "code",
   "execution_count": 1,
   "metadata": {},
   "outputs": [],
   "source": [
    "import sympy as sp"
   ]
  },
  {
   "cell_type": "code",
   "execution_count": 2,
   "metadata": {},
   "outputs": [],
   "source": [
    "def f(x):\n",
    "    return sin(x)"
   ]
  },
  {
   "cell_type": "code",
   "execution_count": null,
   "metadata": {},
   "outputs": [],
   "source": [
    "def Simp(x, r):\n",
    "    s = 0\n",
    "    for i in range(0,n):\n",
    "        if i%2 = r:\n",
    "            s = s+f(x)\n",
    "            "
   ]
  },
  {
   "cell_type": "code",
   "execution_count": null,
   "metadata": {},
   "outputs": [],
   "source": [
    "# a = float(input('a: '))\n",
    "# b = float(input('b: '))\n",
    "# e = float(input('e: '))\n",
    "a = pi/4\n",
    "b = pi/2\n",
    "e = 0.000001\n",
    "n = 2\n",
    "k = 0\n",
    "\n",
    "while abs(i1-i2)<e:\n",
    "    i2 = i1\n",
    "    i1 = ((1/3)*h)*(f(a)+f(b)+4*Simp(a+h,1)+2*Simp(a+h,0))\n",
    "    n = n*2\n",
    "    h = (b-a)/n\n",
    "    k +=k"
   ]
  },
  {
   "cell_type": "code",
   "execution_count": null,
   "metadata": {},
   "outputs": [],
   "source": []
  }
 ],
 "metadata": {
  "kernelspec": {
   "display_name": "Python 3",
   "language": "python",
   "name": "python3"
  },
  "language_info": {
   "codemirror_mode": {
    "name": "ipython",
    "version": 3
   },
   "file_extension": ".py",
   "mimetype": "text/x-python",
   "name": "python",
   "nbconvert_exporter": "python",
   "pygments_lexer": "ipython3",
   "version": "3.6.4"
  }
 },
 "nbformat": 4,
 "nbformat_minor": 2
}
