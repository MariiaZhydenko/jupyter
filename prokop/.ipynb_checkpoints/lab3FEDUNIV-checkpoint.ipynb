{
 "cells": [
  {
   "cell_type": "code",
   "execution_count": 1,
   "metadata": {},
   "outputs": [],
   "source": [
    "import numpy as np\n",
    "from scipy.linalg import solve"
   ]
  },
  {
   "cell_type": "code",
   "execution_count": 2,
   "metadata": {},
   "outputs": [
    {
     "name": "stdout",
     "output_type": "stream",
     "text": [
      "Input epsilon:0.000000000000000000005\n"
     ]
    }
   ],
   "source": [
    "e = float(input(\"Input epsilon:\"))"
   ]
  },
  {
   "cell_type": "code",
   "execution_count": 17,
   "metadata": {},
   "outputs": [
    {
     "name": "stdout",
     "output_type": "stream",
     "text": [
      "[[10  2  3  1]\n",
      " [ 3 50  7  1]\n",
      " [ 1  3 40  2]\n",
      " [ 1  2  3 20]]\n"
     ]
    }
   ],
   "source": [
    "arr, b = [], []\n",
    "with open('matrix.txt', 'r') as f:\n",
    "    for l in f.readlines():\n",
    "        tmp = l.split(\"|\")\n",
    "        b.append(int(tmp[1].rstrip()))\n",
    "        arr.append([int(n) for n in tmp[0].strip().split(\" \")])\n",
    "        del tmp\n",
    "    arr, b = np.array(arr), np.array(b)\n",
    "    \n",
    "n,m = arr.shape\n",
    "print(arr)\n",
    "# solve(arr, b)"
   ]
  },
  {
   "cell_type": "code",
   "execution_count": 18,
   "metadata": {
    "scrolled": false
   },
   "outputs": [
    {
     "name": "stdout",
     "output_type": "stream",
     "text": [
      "result:\n",
      " [[1.]\n",
      " [1.]\n",
      " [1.]\n",
      " [1.]]\n",
      "Iterations:  13\n"
     ]
    }
   ],
   "source": [
    "A1 = np.zeros((n, m))\n",
    "B1 = np.zeros((n, 1))\n",
    "\n",
    "for index, x in np.ndenumerate(arr):\n",
    "    i,j = index\n",
    "    if i != j:\n",
    "        A1[i][j] = -(arr[i][j]/arr[i][i])\n",
    "    B1[i] = b[i]/arr[i][i]\n",
    " \n",
    "\n",
    "X0 = np.copy(B1)\n",
    "X = np.zeros((n, 1))\n",
    "    \n",
    "k = 0\n",
    "max_val = e\n",
    "    \n",
    "while max_val >= e: \n",
    "    if k > 1000:\n",
    "        print(\"max count\")\n",
    "        break\n",
    "            \n",
    "    for i in range(0, n):\n",
    "        s = 0\n",
    "        for j in range(0, m):\n",
    "             s = s + A1[i][j]*X0[j]\n",
    "                \n",
    "        X[i] = B1[i] + s\n",
    "            \n",
    "        max_val = abs(X[i][0] - X0[i][0]) \n",
    "            \n",
    "        X0[i] = X[i]\n",
    "         \n",
    "    k += 1\n",
    "        \n",
    "            \n",
    "print(\"result:\\n\", X)\n",
    "print('Iterations: ', k)\n"
   ]
  },
  {
   "cell_type": "code",
   "execution_count": null,
   "metadata": {},
   "outputs": [],
   "source": []
  }
 ],
 "metadata": {
  "kernelspec": {
   "display_name": "Python 3",
   "language": "python",
   "name": "python3"
  },
  "language_info": {
   "codemirror_mode": {
    "name": "ipython",
    "version": 3
   },
   "file_extension": ".py",
   "mimetype": "text/x-python",
   "name": "python",
   "nbconvert_exporter": "python",
   "pygments_lexer": "ipython3",
   "version": "3.6.4"
  }
 },
 "nbformat": 4,
 "nbformat_minor": 2
}
