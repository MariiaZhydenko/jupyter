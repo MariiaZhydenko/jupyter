{
 "cells": [
  {
   "cell_type": "code",
   "execution_count": 29,
   "metadata": {},
   "outputs": [],
   "source": [
    "from sympy import *\n",
    "import numpy as np\n",
    "from tabulate import tabulate\n",
    "import matplotlib.pyplot as plt"
   ]
  },
  {
   "cell_type": "code",
   "execution_count": 30,
   "metadata": {},
   "outputs": [],
   "source": [
    "#create function\n",
    "x = Symbol('x')\n",
    "f = sin(x) + ln(x)"
   ]
  },
  {
   "cell_type": "code",
   "execution_count": 31,
   "metadata": {},
   "outputs": [
    {
     "data": {
      "image/png": "[encoded data removed]",
      "text/plain": [
       "<matplotlib.figure.Figure at 0x368c850>"
      ]
     },
     "metadata": {},
     "output_type": "display_data"
    },
    {
     "data": {
      "text/plain": [
       "<sympy.plotting.plot.Plot at 0x368c5d0>"
      ]
     },
     "execution_count": 31,
     "metadata": {},
     "output_type": "execute_result"
    }
   ],
   "source": [
    "#create plot\n",
    "plotting.plot(f)"
   ]
  },
  {
   "cell_type": "code",
   "execution_count": null,
   "metadata": {
    "scrolled": true
   },
   "outputs": [],
   "source": [
    "a = float(input(\"Enter the value a:\"))\n",
    "b = float(input(\"Enter the value b:\"))\n",
    "e = float(input(\"Epsilon e:\"))\n",
    "kmax = int(input(\"Maximum number of iterations:\"))\n",
    "ktab = float(input(\"Step tabling:\"))"
   ]
  },
  {
   "cell_type": "code",
   "execution_count": null,
   "metadata": {
    "scrolled": true
   },
   "outputs": [],
   "source": [
    "#create table function value\n",
    "fuc_list = []\n",
    "for i in np.arange(a, b, 0.01):\n",
    "    fuc_list.append([i, f.subs(x,i)])\n",
    "print (tabulate(fuc_list, headers=['x', 'f(x)'], tablefmt='orgtbl'))"
   ]
  },
  {
   "cell_type": "code",
   "execution_count": null,
   "metadata": {},
   "outputs": [],
   "source": [
    "k = 0\n",
    "x1 = a\n",
    "while abs(f.subs(x,x1)) > e:\n",
    "    if k >= kmax:\n",
    "        print(\"Кількість ітерацій перевищила максимальну \" + kmax )\n",
    "        print('Solution:',x1, \"f(x):\", f.subs(x,x1) )\n",
    "        break\n",
    "    x1 = a-(f.subs(x,a)*(a-b)/(f.subs(x,a)-f.subs(x,b)))\n",
    "    if f.subs(x,a)*f.subs(x,x1) > 0:\n",
    "        a = x1\n",
    "    else:\n",
    "        b = x1\n",
    "    k += 1 \n",
    "else:\n",
    "    print('Solution:',x1, \"f(x):\", f.subs(x,x1) )\n",
    "    print('Number of iterations:', k) "
   ]
  },
  {
   "cell_type": "code",
   "execution_count": null,
   "metadata": {},
   "outputs": [],
   "source": []
  }
 ],
 "metadata": {
  "kernelspec": {
   "display_name": "Python 3",
   "language": "python",
   "name": "python3"
  },
  "language_info": {
   "codemirror_mode": {
    "name": "ipython",
    "version": 3
   },
   "file_extension": ".py",
   "mimetype": "text/x-python",
   "name": "python",
   "nbconvert_exporter": "python",
   "pygments_lexer": "ipython3",
   "version": "3.6.4"
  }
 },
 "nbformat": 4,
 "nbformat_minor": 2
}
