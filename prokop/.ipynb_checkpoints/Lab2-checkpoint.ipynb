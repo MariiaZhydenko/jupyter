{
 "cells": [
  {
   "cell_type": "code",
   "execution_count": 1,
   "metadata": {},
   "outputs": [],
   "source": [
    "from sympy import *\n",
    "import matplotlib.pyplot as plt"
   ]
  },
  {
   "cell_type": "code",
   "execution_count": 69,
   "metadata": {},
   "outputs": [],
   "source": [
    "#set the function\n",
    "#задаємо функцію\n",
    "\n",
    "x = symbols('x')\n",
    "f = exp(-x) - (1/2)*(sin(x))**2\n",
    "#f = x**3 - 8\n",
    "#f = x**(1/2)"
   ]
  },
  {
   "cell_type": "code",
   "execution_count": 45,
   "metadata": {},
   "outputs": [],
   "source": [
    "#практичне завдання 2\n",
    "#n = 5\n",
    "#k=2,4\n",
    "# R0 = -1500\n",
    "# R1 = -1000\n",
    "# Rk = 1000 \n",
    "# Rn = 1300 #=R5\n",
    "\n",
    "# f = R0 + R1/(1+x) + Rk/(1+x)**2 + Rk/(1+x)**3 + Rk/(1+x)**4 + Rn/(1+x)**5"
   ]
  },
  {
   "cell_type": "code",
   "execution_count": 46,
   "metadata": {},
   "outputs": [
    {
     "name": "stdout",
     "output_type": "stream",
     "text": [
      "Введіть ліву частину відрізка: 0\n",
      "Введіть праву частину відрізка: 10\n",
      "Введіть крок при виведенні таблиці значень: 2\n",
      "Введіть похибку: 0.005\n",
      "Введіть максимальну кількість ітерацій: 100\n"
     ]
    }
   ],
   "source": [
    "#set values\n",
    "#задаємо значення\n",
    "\n",
    "a1 = float(input('Введіть ліву частину відрізка: '))\n",
    "a2 = float(input('Введіть праву частину відрізка: '))\n",
    "step = float(input(\"Введіть крок при виведенні таблиці значень: \" ))\n",
    "e = float(input('Введіть похибку: '))\n",
    "k1 = float(input('Введіть максимальну кількість ітерацій: '))"
   ]
  },
  {
   "cell_type": "code",
   "execution_count": 47,
   "metadata": {},
   "outputs": [
    {
     "name": "stdout",
     "output_type": "stream",
     "text": [
      "Функція: -1500 - 1000/(x + 1) + 1000/(x + 1)**2 + 1000/(x + 1)**3 + 1000/(x + 1)**4 + 1300/(x + 1)**5\n",
      "   x        y\n",
      "0.0 | 1800.00000000000\n",
      "2.0 | -1667.48971193416\n",
      "4.0 | -1649.98400000000\n",
      "6.0 | -1619.03968584518\n",
      "8.0 | -1597.21925858186\n",
      "10.0 | -1581.81693997554\n"
     ]
    }
   ],
   "source": [
    "#Виведемо таблицю значень\n",
    " \n",
    "if a1 > a2:\n",
    "    a1, a2 = a2, a1\n",
    " \n",
    "print(\"Функція:\", f)\n",
    "print(\"   x        y\")\n",
    "while a1 <= a2:\n",
    "    y = f.subs(x, a1)\n",
    "    print('{0} | {1}'.format(a1, y))\n",
    "    a1 += step"
   ]
  },
  {
   "cell_type": "code",
   "execution_count": 63,
   "metadata": {},
   "outputs": [
    {
     "data": {
      "image/png": "[encoded data removed]",
      "text/plain": [
       "<matplotlib.figure.Figure at 0x5340cb0>"
      ]
     },
     "metadata": {},
     "output_type": "display_data"
    },
    {
     "data": {
      "text/plain": [
       "<sympy.plotting.plot.Plot at 0x5340b50>"
      ]
     },
     "execution_count": 63,
     "metadata": {},
     "output_type": "execute_result"
    }
   ],
   "source": [
    "#plotting.plot(f)\n",
    "plotting.plot(f, (x, 2, 3))"
   ]
  },
  {
   "cell_type": "code",
   "execution_count": 71,
   "metadata": {},
   "outputs": [
    {
     "name": "stdout",
     "output_type": "stream",
     "text": [
      "Введіть праву частину відрізка: 2\n",
      "Введіть ліву частину відрізка: 3\n"
     ]
    }
   ],
   "source": [
    "#set values\n",
    "#задаємо значення\n",
    "\n",
    "a = float(input('Введіть праву частину відрізка: '))\n",
    "b = float(input('Введіть ліву частину відрізка: '))"
   ]
  },
  {
   "cell_type": "code",
   "execution_count": 72,
   "metadata": {},
   "outputs": [],
   "source": [
    "#позначимо похідні\n",
    "\n",
    "f1 = f.diff()\n",
    "f2 = f.diff(x, 2)"
   ]
  },
  {
   "cell_type": "code",
   "execution_count": 73,
   "metadata": {},
   "outputs": [],
   "source": [
    "#підготуємо функцію наближення до розвязку\n",
    "\n",
    "def findroot(a, b):\n",
    "    a -= float(f.subs(x, a)) * (a-b) / (float(f.subs(x, a))-float(f.subs(x, b)))\n",
    "    b -= float(f.subs(x, b))/float(f1.subs(x, b))\n",
    "   \n",
    "    return a, b "
   ]
  },
  {
   "cell_type": "code",
   "execution_count": 74,
   "metadata": {},
   "outputs": [],
   "source": [
    "k = 0"
   ]
  },
  {
   "cell_type": "code",
   "execution_count": 75,
   "metadata": {},
   "outputs": [
    {
     "name": "stdout",
     "output_type": "stream",
     "text": [
      "Розвязок: 2.7804735033972996\n",
      "Кількість ітерацій: 3\n",
      "Значення функції: -0.000408874578095630\n"
     ]
    }
   ],
   "source": [
    "while abs(b-a) >= e:\n",
    "    if k>=k1:\n",
    "        print('кількість ітерацій більша, ніж задана')\n",
    "        break\n",
    "    if f.subs(x,a)*f2.subs(x, a) <= 0:\n",
    "        a, b = b, a\n",
    "    a, b = findroot(a, b)\n",
    "    k += 1\n",
    "else:\n",
    "    x1 = (b+a)/2\n",
    "    print('Розвязок:',x1)\n",
    "    print('Кількість ітерацій:', k)\n",
    "\n",
    "print('Значення функції:', f.subs(x, x1))"
   ]
  },
  {
   "cell_type": "code",
   "execution_count": null,
   "metadata": {},
   "outputs": [],
   "source": [
    "i = symbols('i')\n",
    "g = R0 + R1/(1+i) + Rk/(1+i)**2 + Rk/(1+i)**3 + Rk/(1+i)**4 + Rn/(1+i)**5\n",
    "g1 = g.diff()\n",
    "g2 = g.diff(i,2)"
   ]
  },
  {
   "cell_type": "code",
   "execution_count": null,
   "metadata": {},
   "outputs": [],
   "source": []
  }
 ],
 "metadata": {
  "kernelspec": {
   "display_name": "Python 3",
   "language": "python",
   "name": "python3"
  },
  "language_info": {
   "codemirror_mode": {
    "name": "ipython",
    "version": 3
   },
   "file_extension": ".py",
   "mimetype": "text/x-python",
   "name": "python",
   "nbconvert_exporter": "python",
   "pygments_lexer": "ipython3",
   "version": "3.6.4"
  }
 },
 "nbformat": 4,
 "nbformat_minor": 2
}
