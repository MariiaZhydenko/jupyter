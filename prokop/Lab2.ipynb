{
 "cells": [
  {
   "cell_type": "code",
   "execution_count": 1,
   "metadata": {},
   "outputs": [],
   "source": [
    "from sympy import *\n",
    "import matplotlib.pyplot as plt"
   ]
  },
  {
   "cell_type": "code",
   "execution_count": 2,
   "metadata": {},
   "outputs": [],
   "source": [
    "#set the function\n",
    "#задаємо функцію\n",
    "\n",
    "x = symbols('x')\n",
    "f = exp(-x) - (1/2)*(sin(x))**2\n",
    "#f = x**3 - 8\n",
    "#f = x**(1/2)"
   ]
  },
  {
   "cell_type": "code",
   "execution_count": 3,
   "metadata": {},
   "outputs": [],
   "source": [
    "#практичне завдання 2\n",
    "#n = 5\n",
    "#k=2,4\n",
    "# R0 = -1500\n",
    "# R1 = -1000\n",
    "# Rk = 1000 \n",
    "# Rn = 1300 #=R5\n",
    "\n",
    "# f = R0 + R1/(1+x) + Rk/(1+x)**2 + Rk/(1+x)**3 + Rk/(1+x)**4 + Rn/(1+x)**5"
   ]
  },
  {
   "cell_type": "code",
   "execution_count": null,
   "metadata": {},
   "outputs": [
    {
     "name": "stdout",
     "output_type": "stream",
     "text": [
      "Введіть ліву частину відрізка: 0\n",
      "Введіть праву частину відрізка: 10\n",
      "Введіть крок при виведенні таблиці значень: 1\n"
     ]
    }
   ],
   "source": [
    "#set values\n",
    "#задаємо значення\n",
    "\n",
    "a1 = float(input('Введіть ліву частину відрізка: '))\n",
    "a2 = float(input('Введіть праву частину відрізка: '))\n",
    "step = float(input(\"Введіть крок при виведенні таблиці значень: \" ))\n",
    "e = float(input('Введіть похибку: '))\n",
    "k1 = float(input('Введіть максимальну кількість ітерацій: '))"
   ]
  },
  {
   "cell_type": "code",
   "execution_count": 5,
   "metadata": {},
   "outputs": [
    {
     "name": "stdout",
     "output_type": "stream",
     "text": [
      "Функція: -0.5*sin(x)**2 + exp(-x)\n",
      "   x        y\n",
      "0.0 | 1\n",
      "1.0 | 0.0138427320346567\n",
      "2.0 | -0.278075621979290\n",
      "3.0 | 0.0398296400304555\n",
      "4.0 | -0.268059369563419\n",
      "5.0 | -0.453029935270028\n",
      "6.0 | -0.0365577581402106\n",
      "7.0 | -0.214903813482487\n",
      "8.0 | -0.489079407452944\n",
      "9.0 | -0.0847974131348933\n",
      "10.0 | -0.147934084616890\n"
     ]
    }
   ],
   "source": [
    "#Виведемо таблицю значень\n",
    " \n",
    "if a1 > a2:\n",
    "    a1, a2 = a2, a1\n",
    " \n",
    "print(\"Функція:\", f)\n",
    "print(\"   x        y\")\n",
    "while a1 <= a2:\n",
    "    y = f.subs(x, a1)\n",
    "    print('{0} | {1}'.format(a1, y))\n",
    "    a1 += step"
   ]
  },
  {
   "cell_type": "code",
   "execution_count": 6,
   "metadata": {},
   "outputs": [
    {
     "data": {
      "image/png": "[encoded data removed]",
      "text/plain": [
       "<matplotlib.figure.Figure at 0xa50ec10>"
      ]
     },
     "metadata": {},
     "output_type": "display_data"
    },
    {
     "data": {
      "text/plain": [
       "<sympy.plotting.plot.Plot at 0xa50ead0>"
      ]
     },
     "execution_count": 6,
     "metadata": {},
     "output_type": "execute_result"
    }
   ],
   "source": [
    "#plotting.plot(f)\n",
    "plotting.plot(f, (x, 2, 4))"
   ]
  },
  {
   "cell_type": "code",
   "execution_count": 7,
   "metadata": {},
   "outputs": [
    {
     "name": "stdout",
     "output_type": "stream",
     "text": [
      "Введіть праву частину відрізка: 2\n",
      "Введіть ліву частину відрізка: 3\n"
     ]
    }
   ],
   "source": [
    "#set values\n",
    "#задаємо значення\n",
    "\n",
    "a = float(input('Введіть праву частину відрізка: '))\n",
    "b = float(input('Введіть ліву частину відрізка: '))"
   ]
  },
  {
   "cell_type": "code",
   "execution_count": 8,
   "metadata": {},
   "outputs": [
    {
     "name": "stdout",
     "output_type": "stream",
     "text": [
      "-0.2780756219792903\n",
      "0.03982964003045545\n",
      "2.0\n",
      "3.0\n"
     ]
    }
   ],
   "source": [
    "#позначимо похідні\n",
    "\n",
    "f1 = f.diff()\n",
    "f2 = f.diff(x, 2)\n",
    "print(float(f.subs(x, a)))\n",
    "print(float(f.subs(x, b)))\n",
    "print(a)\n",
    "print(b)"
   ]
  },
  {
   "cell_type": "code",
   "execution_count": 9,
   "metadata": {},
   "outputs": [],
   "source": [
    "#підготуємо функцію наближення до розвязку\n",
    "\n",
    "def findroot(a, b):\n",
    "    a -= float(f.subs(x, a)) * (a-b) / (float(f.subs(x, a))-float(f.subs(x, b)))\n",
    "    b -= float(f.subs(x, b))/float(f1.subs(x, b))\n",
    "   \n",
    "    return a, b "
   ]
  },
  {
   "cell_type": "code",
   "execution_count": 10,
   "metadata": {},
   "outputs": [],
   "source": [
    "k = 0"
   ]
  },
  {
   "cell_type": "code",
   "execution_count": 11,
   "metadata": {},
   "outputs": [
    {
     "name": "stdout",
     "output_type": "stream",
     "text": [
      "-0.2780756219792903\n",
      "2.0\n",
      "3.0\n",
      "Розвязок: 2.7819985049406126\n",
      "Кількість ітерацій: 4\n",
      "Значення функції: -1.76643565177881e-7\n"
     ]
    }
   ],
   "source": [
    "print(float(f.subs(x, a)))\n",
    "print(a)\n",
    "print(b)\n",
    "while abs(b-a) >= e:\n",
    "    if k>=k1:\n",
    "        print('кількість ітерацій більша, ніж задана')\n",
    "        break\n",
    "    if f.subs(x,a)*f2.subs(x, a) <= 0:\n",
    "        a, b = b, a\n",
    "    a, b = findroot(a, b)\n",
    "    k += 1\n",
    "else:\n",
    "    x1 = (b+a)/2\n",
    "    print('Розвязок:',x1)\n",
    "    print('Кількість ітерацій:', k)\n",
    "\n",
    "print('Значення функції:', f.subs(x, x1))"
   ]
  },
  {
   "cell_type": "code",
   "execution_count": null,
   "metadata": {},
   "outputs": [],
   "source": []
  }
 ],
 "metadata": {
  "kernelspec": {
   "display_name": "Python 3",
   "language": "python",
   "name": "python3"
  },
  "language_info": {
   "codemirror_mode": {
    "name": "ipython",
    "version": 3
   },
   "file_extension": ".py",
   "mimetype": "text/x-python",
   "name": "python",
   "nbconvert_exporter": "python",
   "pygments_lexer": "ipython3",
   "version": "3.6.4"
  }
 },
 "nbformat": 4,
 "nbformat_minor": 2
}
