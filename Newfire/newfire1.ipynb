{
 "cells": [
  {
   "cell_type": "code",
   "execution_count": null,
   "metadata": {},
   "outputs": [],
   "source": [
    "import pandas as pd\n",
    "import numpy as np\n",
    "from sklearn.cluster import KMeans"
   ]
  },
  {
   "cell_type": "code",
   "execution_count": null,
   "metadata": {},
   "outputs": [],
   "source": [
    "data = pd.read_csv('survey_test.csv')\n",
    "# print(data.head())\n",
    "df = data.copy()"
   ]
  },
  {
   "cell_type": "code",
   "execution_count": null,
   "metadata": {},
   "outputs": [],
   "source": [
    "#AGE\n",
    "#check what kind of values do we have\n",
    "# data.isnull().any()\n",
    "df['Age'].unique()"
   ]
  },
  {
   "cell_type": "code",
   "execution_count": null,
   "metadata": {},
   "outputs": [],
   "source": [
    "df = df[(df['Age'] < 100) & (df['Age'] > 0)]\n",
    "df['Age'].unique()"
   ]
  },
  {
   "cell_type": "code",
   "execution_count": null,
   "metadata": {},
   "outputs": [],
   "source": [
    "#GENDER\n",
    "df['Gender'].unique()"
   ]
  },
  {
   "cell_type": "code",
   "execution_count": null,
   "metadata": {},
   "outputs": [],
   "source": [
    "#a function to make a numerous data\n",
    "def gender_to_num(df):\n",
    "    for i in df:\n",
    "        if 'female' in i.lower() or 'woman' in i.lower() or i in ['male leaning androgynous','queer/she/they','F','f','Femake','femail']:\n",
    "            df.replace(i,0, inplace=True)\n",
    "        elif 'male' in i.lower() or i in ['M','m','Guy (-ish) ^_^','maile','Mal','Make','Man','msle','Mail','Malr','Cis Man']:\n",
    "            df.replace(i,1, inplace=True)\n",
    "        else:\n",
    "            df.replace(i, np.NaN, inplace=True)\n",
    "    return df\n",
    "\n",
    "#check how that worked\n",
    "df['Gender'] = gender_to_num(df['Gender'])\n",
    "df['Gender'].unique()\n",
    "\n",
    "# how many values are undefined\n",
    "# df[np.isnan(df['Gender'])]['Gender']"
   ]
  },
  {
   "cell_type": "code",
   "execution_count": null,
   "metadata": {},
   "outputs": [],
   "source": [
    "#COUNTRY\n",
    "df['Country'].unique()"
   ]
  },
  {
   "cell_type": "code",
   "execution_count": null,
   "metadata": {},
   "outputs": [],
   "source": [
    "def country(df):\n",
    "    for country in df:\n",
    "        if 'usa' in country.lower() or country == 'United States':\n",
    "            df.replace(country,'USA', inplace=True)\n",
    "    return df\n",
    "df['Country']= country(df['Country'])\n",
    "# df['Country'].unique()\n",
    "\n",
    "country = df['Country'].copy()\n",
    "country_counts = country.value_counts()\n",
    "n = df['Country'].count()\n",
    "frequency_by_countries = country_counts/n"
   ]
  },
  {
   "cell_type": "code",
   "execution_count": null,
   "metadata": {},
   "outputs": [],
   "source": [
    "#STATE\n",
    "#If you live in the United States, which state or territory do you live in?\n",
    "# df['state'].unique()\n",
    "\n",
    "state = df['state'].copy()\n",
    "state_counts = state.value_counts()\n",
    "n = df['state'].count()\n",
    "frequency_by_states = state_counts/n"
   ]
  },
  {
   "cell_type": "code",
   "execution_count": null,
   "metadata": {},
   "outputs": [],
   "source": [
    "def yes_and_no(df):\n",
    "    for answer in df:\n",
    "        if answer == 'Yes':\n",
    "            df.replace('Yes',1, inplace=True)\n",
    "        elif answer == 'No':\n",
    "            df.replace('No',0, inplace=True)\n",
    "        elif answer == \"Don\\'t know\" or answer == \"Not sure\" or answer == \"Maybe\" or answer == \"Some of them\":\n",
    "            df.replace([\"Don\\'t know\",\"Not sure\",\"Maybe\",\"Some of them\"],2, inplace=True)\n",
    "        else:\n",
    "            df.replace(answer,np.nan, inplace=True)\n",
    "    return df"
   ]
  },
  {
   "cell_type": "code",
   "execution_count": null,
   "metadata": {},
   "outputs": [],
   "source": [
    "#for work_interfere\n",
    "def frequency(df):\n",
    "    for freq in df:\n",
    "        if pd.isna(freq):\n",
    "            df.replace(freq,np.nan, inplace=True)\n",
    "        elif 'never' in freq.lower():\n",
    "            df.replace('Never',0, inplace=True)\n",
    "        elif 'rarely' in freq.lower():\n",
    "            df.replace('Rarely',1, inplace=True)\n",
    "        elif 'sometimes' in freq.lower():\n",
    "            df.replace(['sometimes','Sometimes'],2, inplace=True)\n",
    "        elif 'often' in freq.lower():\n",
    "            df.replace('Often',3, inplace=True)\n",
    "    return df\n",
    "df['work_interfere'] = frequency(df['work_interfere'])"
   ]
  },
  {
   "cell_type": "code",
   "execution_count": null,
   "metadata": {},
   "outputs": [],
   "source": [
    "def leave_fun(df):\n",
    "    for ans in df:\n",
    "        if pd.isna(ans):\n",
    "            df.replace(ans,np.nan, inplace=True)\n",
    "        elif ans == 'Very easy':\n",
    "            df.replace('Very easy',0, inplace=True)\n",
    "        elif ans == 'Somewhat easy':\n",
    "            df.replace('Somewhat easy',1, inplace=True)\n",
    "        elif ans == \"Don't know\":\n",
    "            df.replace(\"Don't know\",2, inplace=True)\n",
    "        elif ans == 'Somewhat difficult':\n",
    "            df.replace('Somewhat difficult',3, inplace=True)\n",
    "        elif ans == 'Very difficult':\n",
    "            df.replace('Very difficult',4, inplace=True)\n",
    "    return df\n",
    "df['leave'] = leave_fun(df['leave'])"
   ]
  },
  {
   "cell_type": "code",
   "execution_count": null,
   "metadata": {},
   "outputs": [],
   "source": [
    "def no_empl(df):\n",
    "    for qua in df:\n",
    "        if pd.isna(qua):\n",
    "            df.replace(qua,np.nan, inplace=True)\n",
    "        elif qua == '1-5':\n",
    "            df.replace('1-5',1, inplace=True)   \n",
    "        elif qua == '6-25':\n",
    "            df.replace('6-25',1, inplace=True)\n",
    "        elif qua == '26-100':\n",
    "            df.replace('26-100',2, inplace=True)\n",
    "        elif qua == '100-500':\n",
    "            df.replace('100-500',3, inplace=True)\n",
    "        elif qua == '500-1000':\n",
    "            df.replace('500-1000',4, inplace=True)\n",
    "        elif qua == 'More than 1000':\n",
    "            df.replace('More than 1000',5, inplace=True)\n",
    "    return df\n",
    "df['no_employees'] = no_empl(df['no_employees'])"
   ]
  },
  {
   "cell_type": "code",
   "execution_count": null,
   "metadata": {},
   "outputs": [],
   "source": [
    "list = ['family_history','treatment', 'mental_health_consequence', 'phys_health_consequence', \n",
    "              'coworkers', 'supervisor', 'mental_health_interview', 'phys_health_interview', 'obs_consequence', \n",
    "              'mental_vs_physical', 'remote_work', 'tech_company', 'benefits', 'care_options', 'wellness_program',\n",
    "             'seek_help', 'anonymity','self_employed']\n",
    "for col in list:\n",
    "    df[col] = yes_and_no(df[col])"
   ]
  },
  {
   "cell_type": "code",
   "execution_count": null,
   "metadata": {},
   "outputs": [],
   "source": [
    "print('FREQUENCY BY COUNTRIES: \\n', frequency_by_countries)\n",
    "print('\\n FREQUENCY BY STATES: \\n', frequency_by_states)"
   ]
  },
  {
   "cell_type": "code",
   "execution_count": null,
   "metadata": {},
   "outputs": [],
   "source": [
    "df.drop(['comments', 'Timestamp', 'Country', 'state', 'Age'], axis=1, inplace=True)\n",
    "df = df.dropna()"
   ]
  },
  {
   "cell_type": "code",
   "execution_count": null,
   "metadata": {},
   "outputs": [],
   "source": [
    "# kmeans = KMeans(n_clusters=5)\n",
    "# X = df.copy()\n",
    "# kmeansfit = kmeans.fit(X)"
   ]
  },
  {
   "cell_type": "code",
   "execution_count": null,
   "metadata": {},
   "outputs": [],
   "source": [
    "# from sklearn.feature_selection import SelectFromModel\n",
    "# from sklearn.linear_model import LassoCV\n",
    "\n",
    "# y = kmeansfit\n",
    "# clf = LassoCV()\n",
    "# sfm = SelectFromModel(clf, threshold=0.25)\n",
    "# sfm.fit(X, y)\n",
    "# n_features = sfm.transform(X).shape[1]"
   ]
  },
  {
   "cell_type": "code",
   "execution_count": null,
   "metadata": {},
   "outputs": [],
   "source": [
    "#feature SELECTION, not importance!!\n",
    "from sklearn.feature_selection import VarianceThreshold\n",
    "X = df.copy()\n",
    "selector = VarianceThreshold()\n",
    "selector.fit_transform(X)\n",
    "selector.get_support()"
   ]
  },
  {
   "cell_type": "code",
   "execution_count": null,
   "metadata": {},
   "outputs": [],
   "source": [
    "count = df['benefits'].count()\n",
    "data_value = df.apply(pd.value_counts).fillna(0)"
   ]
  },
  {
   "cell_type": "code",
   "execution_count": null,
   "metadata": {},
   "outputs": [],
   "source": [
    "percent_column = []\n",
    "for d in data_value.columns.tolist():\n",
    "    data_value[d+\"_percent\"] = pd.Series(np.random.randn(6), index=data_value.index)\n",
    "    for index, value in enumerate(data_value[d]):\n",
    "        if value/count*100 > 80:\n",
    "            percent_column.append((d,value/count, index) )\n",
    "        data_value.at[index, d+\"_percent\"] = str(value/count*100)"
   ]
  },
  {
   "cell_type": "code",
   "execution_count": null,
   "metadata": {},
   "outputs": [],
   "source": [
    "data_value.reindex_axis(sorted(data_value.columns), axis=1)"
   ]
  },
  {
   "cell_type": "code",
   "execution_count": null,
   "metadata": {},
   "outputs": [],
   "source": [
    "percent_column"
   ]
  }
 ],
 "metadata": {
  "kernelspec": {
   "display_name": "Python 3",
   "language": "python",
   "name": "python3"
  },
  "language_info": {
   "codemirror_mode": {
    "name": "ipython",
    "version": 3
   },
   "file_extension": ".py",
   "mimetype": "text/x-python",
   "name": "python",
   "nbconvert_exporter": "python",
   "pygments_lexer": "ipython3",
   "version": "3.6.4"
  }
 },
 "nbformat": 4,
 "nbformat_minor": 2
}
