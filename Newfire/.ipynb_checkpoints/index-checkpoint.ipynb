{
 "cells": [
  {
   "cell_type": "code",
   "execution_count": null,
   "metadata": {},
   "outputs": [],
   "source": [
    "import pandas as pd\n",
    "import numpy as np"
   ]
  },
  {
   "cell_type": "code",
   "execution_count": null,
   "metadata": {},
   "outputs": [],
   "source": [
    "df = pd.read_csv(\"survey_test.csv\")"
   ]
  },
  {
   "cell_type": "code",
   "execution_count": null,
   "metadata": {},
   "outputs": [],
   "source": [
    "row_yes_no = ['family_history','treatment', 'mental_health_consequence', 'phys_health_consequence', \n",
    "              'coworkers', 'supervisor', 'mental_health_interview', 'phys_health_interview', 'obs_consequence', \n",
    "              'mental_vs_physical', 'remote_work', 'tech_company', 'benefits', 'care_options', 'wellness_program',\n",
    "             'seek_help', 'anonymity']\n",
    "row_leave = ['leave']\n",
    "row_country = ['Country']\n",
    "#replace 'usa', 'The USA' etc. => \"USA\"  \n",
    "def parse_country(x):\n",
    "    if 'usa' in x.lower() or x == \"United States\":\n",
    "        return 'USA'\n",
    "    return x\n",
    "\n",
    "# Replace 'Yes', 'No' etc. => \"1\", \"0\"\n",
    "# yes_no ={\n",
    "#     'no': 0,\n",
    "#     '0': 0,\n",
    "#     'yes': 1,\n",
    "#     'some of them': 2,\n",
    "#     'maybe': 3,\n",
    "#     \"don't know\": 4,\n",
    "#     \"Not sure\": 5\n",
    "# }\n",
    "def parse_yes_no(x):\n",
    "    if pd.isna(x):\n",
    "        return None\n",
    "    elif 'no' in x.lower():\n",
    "        return 0\n",
    "    elif 'yes' in x.lower():\n",
    "        return 1\n",
    "    elif 'some of them' in x.lower():\n",
    "        return 2\n",
    "    elif 'maybe' in x.lower():\n",
    "        return 3\n",
    "    elif \"don't know\" in x.lower():\n",
    "        return 4\n",
    "    elif \"Not sure\" in x.lower():\n",
    "        return 5\n",
    "    return None\n",
    "\n",
    "# Replace leave\n",
    "# Somewhat easy => 0\n",
    "# Don't know => 1\n",
    "# Somewhat difficult => 2\n",
    "# Very difficult => 3\n",
    "# Very easy => 4\n",
    "def parse_leave(x):\n",
    "    if pd.isna(x):\n",
    "        return None\n",
    "    elif 'somewhat easy' in x.lower():\n",
    "        return 0\n",
    "    elif \"don't know\" in x.lower():\n",
    "        return 1\n",
    "    elif 'somewhat difficult' in x.lower():\n",
    "        return 2\n",
    "    elif 'very difficult' in x.lower():\n",
    "        return 3\n",
    "    elif 'very easy' in x.lower():\n",
    "        return 4\n",
    "    return None\n",
    "\n",
    "# Replace work_interfere\n",
    "# Often => 0\n",
    "# Don't know => 1\n",
    "# Somewhat difficult => 2\n",
    "# Very difficult => 3\n",
    "# Very easy => 4\n",
    "def parse_leave(x):\n",
    "    if pd.isna(x):\n",
    "        return None\n",
    "    elif 'Often' in x.lower():\n",
    "        return 0\n",
    "    elif \"don't know\" in x.lower():\n",
    "        return 1\n",
    "    elif 'somewhat difficult' in x.lower():\n",
    "        return 2\n",
    "    elif 'very difficult' in x.lower():\n",
    "        return 3\n",
    "    elif 'very easy' in x.lower():\n",
    "        return 4\n",
    "    return None"
   ]
  },
  {
   "cell_type": "code",
   "execution_count": null,
   "metadata": {},
   "outputs": [],
   "source": [
    "for d in df:\n",
    "    if d in row_yes_no:\n",
    "        df[d] = df[d].apply(parse_yes_no)\n",
    "    elif d in row_leave:\n",
    "        df[d] = df[d].apply(parse_leave)\n",
    "    elif d in row_country:\n",
    "        df[d] = df[d].apply(parse_country)\n",
    "count = 1261"
   ]
  },
  {
   "cell_type": "code",
   "execution_count": null,
   "metadata": {},
   "outputs": [],
   "source": [
    "del df['Timestamp']\n",
    "del df['Age']\n",
    "del df['Gender']\n",
    "del df['state']\n",
    "del df[u'comments']\n",
    "del df['Country']\n",
    "del df['work_interfere']\n",
    "del df['no_employees']\n",
    "del df['self_employed']"
   ]
  },
  {
   "cell_type": "code",
   "execution_count": null,
   "metadata": {},
   "outputs": [],
   "source": [
    "data_value = df.apply(pd.value_counts).fillna(0)"
   ]
  },
  {
   "cell_type": "code",
   "execution_count": null,
   "metadata": {},
   "outputs": [],
   "source": [
    "predict_column = []\n",
    "for d in list(data_value.columns):\n",
    "    data_value[d+\"_predict\"] = pd.Series(np.random.randn(5), index=data_value.index)\n",
    "    for index, value in enumerate(data_value[d]):\n",
    "        if value/count*100 > 70:\n",
    "            predict_column.append(d)\n",
    "        data_value.set_value(index, d+\"_predict\", str(value/count*100))"
   ]
  },
  {
   "cell_type": "code",
   "execution_count": null,
   "metadata": {
    "scrolled": true
   },
   "outputs": [],
   "source": [
    "data_value.reindex_axis(sorted(data_value.columns), axis=1)"
   ]
  },
  {
   "cell_type": "code",
   "execution_count": null,
   "metadata": {},
   "outputs": [],
   "source": [
    "predict_column"
   ]
  },
  {
   "cell_type": "code",
   "execution_count": null,
   "metadata": {},
   "outputs": [],
   "source": [
    "df[(df['phys_health_consequence'] == 0) & (df['anonymity'] == 0) & (df['remote_work'] == 1) & (df['tech_company'] == 1) & (df['wellness_program'] == 0) & (df['seek_help'] == 0) & (df['obs_consequence'] == 0)].count()"
   ]
  },
  {
   "cell_type": "code",
   "execution_count": null,
   "metadata": {},
   "outputs": [],
   "source": [
    "data_value['anonymity']"
   ]
  },
  {
   "cell_type": "code",
   "execution_count": null,
   "metadata": {},
   "outputs": [],
   "source": [
    "df['tech_company']"
   ]
  },
  {
   "cell_type": "code",
   "execution_count": null,
   "metadata": {},
   "outputs": [],
   "source": []
  }
 ],
 "metadata": {
  "kernelspec": {
   "display_name": "Python 3",
   "language": "python",
   "name": "python3"
  },
  "language_info": {
   "codemirror_mode": {
    "name": "ipython",
    "version": 3
   },
   "file_extension": ".py",
   "mimetype": "text/x-python",
   "name": "python",
   "nbconvert_exporter": "python",
   "pygments_lexer": "ipython3",
   "version": "3.6.4"
  }
 },
 "nbformat": 4,
 "nbformat_minor": 2
}
