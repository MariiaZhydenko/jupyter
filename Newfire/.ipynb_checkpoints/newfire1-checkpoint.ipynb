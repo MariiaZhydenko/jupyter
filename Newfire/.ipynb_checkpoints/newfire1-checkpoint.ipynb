{
 "cells": [
  {
   "cell_type": "code",
   "execution_count": 2,
   "metadata": {},
   "outputs": [],
   "source": [
    "import pandas as pd\n",
    "import numpy as np\n",
    "from sklearn.ensemble import ExtraTreesClassifier\n",
    "\n",
    "data = pd.read_csv('survey_test.csv')\n",
    "# print(data.head())\n",
    "df = data.copy()"
   ]
  },
  {
   "cell_type": "code",
   "execution_count": null,
   "metadata": {},
   "outputs": [],
   "source": [
    "#AGE\n",
    "#check what kind of values do we have\n",
    "# data.isnull().any()\n",
    "df['Age'].unique()"
   ]
  },
  {
   "cell_type": "code",
   "execution_count": 3,
   "metadata": {},
   "outputs": [],
   "source": [
    "df = df[(df['Age'] < 100) & (df['Age'] > 0)]\n",
    "# df['Age'].unique()"
   ]
  },
  {
   "cell_type": "code",
   "execution_count": null,
   "metadata": {},
   "outputs": [],
   "source": [
    "#GENDER\n",
    "df['Gender'].unique()"
   ]
  },
  {
   "cell_type": "code",
   "execution_count": 4,
   "metadata": {},
   "outputs": [
    {
     "data": {
      "text/plain": [
       "array([ 0.,  1., nan])"
      ]
     },
     "execution_count": 4,
     "metadata": {},
     "output_type": "execute_result"
    }
   ],
   "source": [
    "#a function to make a numerous data\n",
    "def gender_to_num(df):\n",
    "    for i in df:\n",
    "        if 'female' in i.lower() or 'woman' in i.lower() or i in ['male leaning androgynous','queer/she/they','F','f','Femake','femail']:\n",
    "            df.replace(i,0, inplace=True)\n",
    "        elif 'male' in i.lower() or i in ['M','m','Guy (-ish) ^_^','maile','Mal','Make','Man','msle','Mail','Malr','Cis Man']:\n",
    "            df.replace(i,1, inplace=True)\n",
    "        else:\n",
    "            df.replace(i, np.NaN, inplace=True)\n",
    "    return df\n",
    "\n",
    "#check how that worked\n",
    "df['Gender'] = gender_to_num(df['Gender'])\n",
    "df['Gender'].unique()\n",
    "\n",
    "# how many values are undefined\n",
    "# df[np.isnan(df['Gender'])]['Gender']"
   ]
  },
  {
   "cell_type": "code",
   "execution_count": null,
   "metadata": {},
   "outputs": [],
   "source": [
    "#COUNTRY\n",
    "df['Country'].unique()"
   ]
  },
  {
   "cell_type": "code",
   "execution_count": 5,
   "metadata": {},
   "outputs": [
    {
     "data": {
      "text/plain": [
       "array(['USA', 'Canada', 'United Kingdom', 'Bulgaria', 'France',\n",
       "       'Portugal', 'Netherlands', 'Switzerland', 'Poland', 'Australia',\n",
       "       'Germany', 'Russia', 'Mexico', 'Brazil', 'Slovenia', 'Costa Rica',\n",
       "       'Austria', 'Ireland', 'India', 'South Africa', 'Italy', 'Sweden',\n",
       "       'Colombia', 'Latvia', 'Romania', 'Belgium', 'New Zealand', 'Spain',\n",
       "       'Finland', 'Uruguay', 'Israel', 'Bosnia and Herzegovina',\n",
       "       'Hungary', 'Singapore', 'Japan', 'Nigeria', 'Croatia', 'Norway',\n",
       "       'Thailand', 'Denmark', 'Bahamas, The', 'Greece', 'Moldova',\n",
       "       'Georgia', 'China', 'Czech Republic', 'Philippines'], dtype=object)"
      ]
     },
     "execution_count": 5,
     "metadata": {},
     "output_type": "execute_result"
    }
   ],
   "source": [
    "def country(df):\n",
    "    for country in df:\n",
    "        if 'usa' in country.lower() or country == 'United States':\n",
    "            df.replace(country,'USA', inplace=True)\n",
    "    return df\n",
    "df['Country']= country(df['Country'])\n",
    "df['Country'].unique()"
   ]
  },
  {
   "cell_type": "code",
   "execution_count": null,
   "metadata": {},
   "outputs": [],
   "source": [
    "#STATE\n",
    "#If you live in the United States, which state or territory do you live in?\n",
    "df['state'].unique()"
   ]
  },
  {
   "cell_type": "code",
   "execution_count": 6,
   "metadata": {},
   "outputs": [],
   "source": [
    "def yes_and_no(df):\n",
    "    for answer in df:\n",
    "        if answer == 'Yes':\n",
    "            df.replace('Yes',1, inplace=True)\n",
    "        elif answer == 'No':\n",
    "            df.replace('No',0, inplace=True)\n",
    "        elif answer == \"Don\\'t know\" or answer == \"Not sure\" or answer == \"Maybe\" or answer == \"Some of them\":\n",
    "            df.replace([\"Don\\'t know\",\"Not sure\",\"Maybe\",\"Some of them\"],2, inplace=True)\n",
    "        else:\n",
    "            df.replace(answer,np.nan, inplace=True)\n",
    "    return df"
   ]
  },
  {
   "cell_type": "code",
   "execution_count": 7,
   "metadata": {},
   "outputs": [],
   "source": [
    "#for work_interfere\n",
    "def frequency(df):\n",
    "    for freq in df:\n",
    "        if pd.isna(freq):\n",
    "            df.replace(freq,np.nan, inplace=True)\n",
    "        elif 'never' in freq.lower():\n",
    "            df.replace('Never',0, inplace=True)\n",
    "        elif 'rarely' in freq.lower():\n",
    "            df.replace('Rarely',1, inplace=True)\n",
    "        elif 'sometimes' in freq.lower():\n",
    "            df.replace(['sometimes','Sometimes'],2, inplace=True)\n",
    "        elif 'often' in freq.lower():\n",
    "            df.replace('Often',3, inplace=True)\n",
    "    return df\n",
    "df['work_interfere'] = frequency(df['work_interfere'])"
   ]
  },
  {
   "cell_type": "code",
   "execution_count": 8,
   "metadata": {},
   "outputs": [],
   "source": [
    "def leave_fun(df):\n",
    "    for ans in df:\n",
    "        if pd.isna(ans):\n",
    "            df.replace(ans,np.nan, inplace=True)\n",
    "        elif ans == 'Very easy':\n",
    "            df.replace('Very easy',0, inplace=True)\n",
    "        elif ans == 'Somewhat easy':\n",
    "            df.replace('Somewhat easy',1, inplace=True)\n",
    "        elif ans == \"Don't know\":\n",
    "            df.replace(\"Don't know\",2, inplace=True)\n",
    "        elif ans == 'Somewhat difficult':\n",
    "            df.replace('Somewhat difficult',3, inplace=True)\n",
    "        elif ans == 'Very difficult':\n",
    "            df.replace('Very difficult',4, inplace=True)\n",
    "    return df\n",
    "df['leave'] = leave_fun(df['leave'])"
   ]
  },
  {
   "cell_type": "code",
   "execution_count": 9,
   "metadata": {},
   "outputs": [],
   "source": [
    "def no_empl(df):\n",
    "    for qua in df:\n",
    "        if pd.isna(qua):\n",
    "            df.replace(qua,np.nan, inplace=True)\n",
    "        elif qua == '1-5':\n",
    "            df.replace('1-5',1, inplace=True)   \n",
    "        elif qua == '6-25':\n",
    "            df.replace('6-25',1, inplace=True)\n",
    "        elif qua == '26-100':\n",
    "            df.replace('26-100',2, inplace=True)\n",
    "        elif qua == '100-500':\n",
    "            df.replace('100-500',3, inplace=True)\n",
    "        elif qua == '500-1000':\n",
    "            df.replace('500-1000',4, inplace=True)\n",
    "        elif qua == 'More than 1000':\n",
    "            df.replace('More than 1000',5, inplace=True)\n",
    "    return df\n",
    "df['no_employees'] = no_empl(df['no_employees'])"
   ]
  },
  {
   "cell_type": "code",
   "execution_count": 10,
   "metadata": {},
   "outputs": [],
   "source": [
    "list = ['family_history','treatment', 'mental_health_consequence', 'phys_health_consequence', \n",
    "              'coworkers', 'supervisor', 'mental_health_interview', 'phys_health_interview', 'obs_consequence', \n",
    "              'mental_vs_physical', 'remote_work', 'tech_company', 'benefits', 'care_options', 'wellness_program',\n",
    "             'seek_help', 'anonymity','self_employed']\n",
    "for col in list:\n",
    "    df[col] = yes_and_no(df[col])"
   ]
  },
  {
   "cell_type": "code",
   "execution_count": 11,
   "metadata": {},
   "outputs": [],
   "source": [
    "df.drop(['Timestamp', 'Country', 'state', 'comments'], axis=1, inplace=True)"
   ]
  },
  {
   "cell_type": "code",
   "execution_count": 15,
   "metadata": {},
   "outputs": [
    {
     "data": {
      "text/plain": [
       "Age                          959\n",
       "Gender                       959\n",
       "self_employed                959\n",
       "family_history               959\n",
       "treatment                    959\n",
       "work_interfere               959\n",
       "no_employees                 959\n",
       "remote_work                  959\n",
       "tech_company                 959\n",
       "benefits                     959\n",
       "care_options                 959\n",
       "wellness_program             959\n",
       "seek_help                    959\n",
       "anonymity                    959\n",
       "leave                        959\n",
       "mental_health_consequence    959\n",
       "phys_health_consequence      959\n",
       "coworkers                    959\n",
       "supervisor                   959\n",
       "mental_health_interview      959\n",
       "phys_health_interview        959\n",
       "mental_vs_physical           959\n",
       "obs_consequence              959\n",
       "dtype: int64"
      ]
     },
     "execution_count": 15,
     "metadata": {},
     "output_type": "execute_result"
    }
   ],
   "source": [
    "df.count()"
   ]
  },
  {
   "cell_type": "code",
   "execution_count": 13,
   "metadata": {},
   "outputs": [],
   "source": [
    "df = df.dropna()"
   ]
  },
  {
   "cell_type": "code",
   "execution_count": 16,
   "metadata": {},
   "outputs": [
    {
     "name": "stdout",
     "output_type": "stream",
     "text": [
      "Explained Variance:  [0.80563507 0.03854092 0.02516024 0.01523048 0.0138374 ]\n",
      "           Age    Gender  self_employed  family_history  treatment  \\\n",
      "PC-1  0.999144  0.005868       0.002497       -0.000491   0.003800   \n",
      "PC-2 -0.034299 -0.033891      -0.073272        0.016458   0.005802   \n",
      "PC-3  0.007724  0.023626      -0.005901       -0.051367  -0.082810   \n",
      "PC-4  0.003008 -0.037038      -0.001633        0.134156   0.219470   \n",
      "PC-5  0.003686  0.053484       0.015072       -0.036980  -0.008600   \n",
      "\n",
      "      work_interfere  no_employees  remote_work  tech_company  benefits  \\\n",
      "PC-1       -0.005789      0.033885     0.008795     -0.002055 -0.003448   \n",
      "PC-2       -0.075745      0.912317    -0.076445     -0.052742  0.162764   \n",
      "PC-3       -0.300805     -0.103799     0.017043      0.032263  0.169358   \n",
      "PC-4        0.700864      0.174069    -0.001791     -0.021850 -0.145939   \n",
      "PC-5        0.065955     -0.003133     0.024795      0.000127  0.154246   \n",
      "\n",
      "           ...         anonymity     leave  mental_health_consequence  \\\n",
      "PC-1       ...         -0.000682  0.003602                   0.004368   \n",
      "PC-2       ...          0.029670  0.017533                   0.067312   \n",
      "PC-3       ...          0.052370 -0.681956                  -0.267400   \n",
      "PC-4       ...         -0.139691 -0.367150                  -0.149584   \n",
      "PC-5       ...          0.032097  0.376038                  -0.189947   \n",
      "\n",
      "      phys_health_consequence  coworkers  supervisor  mental_health_interview  \\\n",
      "PC-1                 0.013436  -0.001789    0.000901                -0.006179   \n",
      "PC-2                 0.017403  -0.029592   -0.014239                -0.064829   \n",
      "PC-3                -0.241474   0.132157    0.162360                 0.189261   \n",
      "PC-4                -0.159824   0.227325    0.195565                 0.053257   \n",
      "PC-5                -0.166156   0.065681    0.069585                 0.299127   \n",
      "\n",
      "      phys_health_interview  mental_vs_physical  obs_consequence  \n",
      "PC-1              -0.003716            0.000364         0.003984  \n",
      "PC-2              -0.108849           -0.000640         0.008634  \n",
      "PC-3               0.015766            0.249400        -0.087296  \n",
      "PC-4               0.048240           -0.240113         0.046581  \n",
      "PC-5               0.729852           -0.153707         0.021174  \n",
      "\n",
      "[5 rows x 23 columns]\n"
     ]
    }
   ],
   "source": [
    "from sklearn.decomposition import PCA\n",
    "array = df.values\n",
    "X = array[:,0:23]\n",
    "pca = PCA(n_components=5)\n",
    "fit = pca.fit(X)\n",
    "features = fit.transform(X)\n",
    "# summarize components\n",
    "print(\"Explained Variance: \", fit.explained_variance_ratio_)\n",
    "# pca.components_\n",
    "print(pd.DataFrame(pca.components_,columns=df.columns,index = ['PC-1','PC-2','PC-3', 'PC-4','PC-5']))\n",
    "# print(features[0:5,:])"
   ]
  },
  {
   "cell_type": "code",
   "execution_count": 17,
   "metadata": {},
   "outputs": [
    {
     "ename": "TypeError",
     "evalue": "'list' object is not callable",
     "output_type": "error",
     "traceback": [
      "\u001b[1;31m---------------------------------------------------------------------------\u001b[0m",
      "\u001b[1;31mTypeError\u001b[0m                                 Traceback (most recent call last)",
      "\u001b[1;32m<ipython-input-17-66aca45ca334>\u001b[0m in \u001b[0;36m<module>\u001b[1;34m()\u001b[0m\n\u001b[0;32m      1\u001b[0m \u001b[0mdata_value\u001b[0m \u001b[1;33m=\u001b[0m \u001b[0mdf\u001b[0m\u001b[1;33m.\u001b[0m\u001b[0mapply\u001b[0m\u001b[1;33m(\u001b[0m\u001b[0mpd\u001b[0m\u001b[1;33m.\u001b[0m\u001b[0mvalue_counts\u001b[0m\u001b[1;33m)\u001b[0m\u001b[1;33m.\u001b[0m\u001b[0mfillna\u001b[0m\u001b[1;33m(\u001b[0m\u001b[1;36m0\u001b[0m\u001b[1;33m)\u001b[0m\u001b[1;33m\u001b[0m\u001b[0m\n\u001b[0;32m      2\u001b[0m \u001b[0mpercent_column\u001b[0m \u001b[1;33m=\u001b[0m \u001b[1;33m[\u001b[0m\u001b[1;33m]\u001b[0m\u001b[1;33m\u001b[0m\u001b[0m\n\u001b[1;32m----> 3\u001b[1;33m \u001b[1;32mfor\u001b[0m \u001b[0md\u001b[0m \u001b[1;32min\u001b[0m \u001b[0mlist\u001b[0m\u001b[1;33m(\u001b[0m\u001b[0mdata_value\u001b[0m\u001b[1;33m.\u001b[0m\u001b[0mcolumns\u001b[0m\u001b[1;33m)\u001b[0m\u001b[1;33m:\u001b[0m\u001b[1;33m\u001b[0m\u001b[0m\n\u001b[0m\u001b[0;32m      4\u001b[0m     \u001b[0mdata_value\u001b[0m\u001b[1;33m[\u001b[0m\u001b[0md\u001b[0m\u001b[1;33m+\u001b[0m\u001b[1;34m\"_percent\"\u001b[0m\u001b[1;33m]\u001b[0m \u001b[1;33m=\u001b[0m \u001b[0mpd\u001b[0m\u001b[1;33m.\u001b[0m\u001b[0mSeries\u001b[0m\u001b[1;33m(\u001b[0m\u001b[0mnp\u001b[0m\u001b[1;33m.\u001b[0m\u001b[0mrandom\u001b[0m\u001b[1;33m.\u001b[0m\u001b[0mrandn\u001b[0m\u001b[1;33m(\u001b[0m\u001b[1;36m5\u001b[0m\u001b[1;33m)\u001b[0m\u001b[1;33m,\u001b[0m \u001b[0mindex\u001b[0m\u001b[1;33m=\u001b[0m\u001b[0mdata_value\u001b[0m\u001b[1;33m.\u001b[0m\u001b[0mindex\u001b[0m\u001b[1;33m)\u001b[0m\u001b[1;33m\u001b[0m\u001b[0m\n\u001b[0;32m      5\u001b[0m     \u001b[1;32mfor\u001b[0m \u001b[0mindex\u001b[0m\u001b[1;33m,\u001b[0m \u001b[0mvalue\u001b[0m \u001b[1;32min\u001b[0m \u001b[0menumerate\u001b[0m\u001b[1;33m(\u001b[0m\u001b[0mdata_value\u001b[0m\u001b[1;33m[\u001b[0m\u001b[0md\u001b[0m\u001b[1;33m]\u001b[0m\u001b[1;33m)\u001b[0m\u001b[1;33m:\u001b[0m\u001b[1;33m\u001b[0m\u001b[0m\n",
      "\u001b[1;31mTypeError\u001b[0m: 'list' object is not callable"
     ]
    }
   ],
   "source": [
    "data_value = df.apply(pd.value_counts).fillna(0)\n",
    "percent_column = []\n",
    "for d in list(data_value.columns):\n",
    "    data_value[d+\"_percent\"] = pd.Series(np.random.randn(5), index=data_value.index)\n",
    "    for index, value in enumerate(data_value[d]):\n",
    "        if value/count*100 > 70:\n",
    "            percent_column.append(d)\n",
    "        data_value.set_value(index, d+\"_percent\", str(value/count*100))\n",
    "        \n",
    "data_value.reindex_axis(sorted(data_value.columns), axis=1)"
   ]
  },
  {
   "cell_type": "code",
   "execution_count": null,
   "metadata": {},
   "outputs": [],
   "source": []
  }
 ],
 "metadata": {
  "kernelspec": {
   "display_name": "Python 3",
   "language": "python",
   "name": "python3"
  },
  "language_info": {
   "codemirror_mode": {
    "name": "ipython",
    "version": 3
   },
   "file_extension": ".py",
   "mimetype": "text/x-python",
   "name": "python",
   "nbconvert_exporter": "python",
   "pygments_lexer": "ipython3",
   "version": "3.6.4"
  }
 },
 "nbformat": 4,
 "nbformat_minor": 2
}
