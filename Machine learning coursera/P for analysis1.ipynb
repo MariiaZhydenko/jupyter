{
 "cells": [
  {
   "cell_type": "code",
   "execution_count": 19,
   "metadata": {},
   "outputs": [],
   "source": [
    "import numpy as np"
   ]
  },
  {
   "cell_type": "code",
   "execution_count": 20,
   "metadata": {},
   "outputs": [
    {
     "name": "stdout",
     "output_type": "stream",
     "text": [
      "[[ 147.18332192    3.71278907  -65.85728323 ...  -36.38208927\n",
      "   -24.82964599 -108.41379734]\n",
      " [  42.91176741 -156.25924179  -14.93623307 ...  149.45280647\n",
      "    31.20530098   73.28106919]\n",
      " [   7.89633016  -45.87487134   21.12493744 ...   35.45333158\n",
      "  -101.65433115   30.53353076]\n",
      " ...\n",
      " [  -9.02741949  190.53140631  -54.16563885 ...   -4.29353121\n",
      "    60.71722512   40.83286373]\n",
      " [ -98.5785201    59.65887008   90.20508089 ...   17.12760785\n",
      "    -6.57033074  -67.46831121]\n",
      " [ -23.82302281   35.98250044  -46.60802261 ...  -18.71889013\n",
      "   217.74162137   58.86793582]]\n"
     ]
    }
   ],
   "source": [
    "# Генерация случайной матрицы\n",
    "# loc: среднее нормального распределения\n",
    "# scale: стандартное отклонение нормального распределения\n",
    "# size: размер матрицы\n",
    "X = np.random.normal(loc=1, scale=100, size=(1000,50))\n",
    "print(X)"
   ]
  },
  {
   "cell_type": "code",
   "execution_count": 21,
   "metadata": {},
   "outputs": [
    {
     "data": {
      "text/plain": [
       "array([[ 1.415378  ,  0.01973708, -0.74423716, ..., -0.37183592,\n",
       "        -0.29426488, -1.08050995],\n",
       "       [ 0.39959476, -1.63832546, -0.21160468, ...,  1.47578501,\n",
       "         0.26416126,  0.74736754],\n",
       "       [ 0.05848453, -0.49422428,  0.16559395, ...,  0.34237132,\n",
       "        -1.05987483,  0.31732092],\n",
       "       ...,\n",
       "       [-0.10638173,  1.95605652, -0.62194295, ..., -0.05280277,\n",
       "         0.55826755,  0.42093375],\n",
       "       [-0.97876258,  0.59960158,  0.88816994, ...,  0.160172  ,\n",
       "        -0.11229846, -0.66859224],\n",
       "       [-0.25051621,  0.35420305, -0.54289054, ..., -0.1962236 ,\n",
       "         2.12312185,  0.60236927]])"
      ]
     },
     "execution_count": 21,
     "metadata": {},
     "output_type": "execute_result"
    }
   ],
   "source": [
    "# Нормировка матрицы\n",
    "mean = np.mean(X, axis=0)\n",
    "stand = np.std(X, axis=0)\n",
    "X_norm = ((X-mean)/stand)\n",
    "X_norm"
   ]
  },
  {
   "cell_type": "code",
   "execution_count": 22,
   "metadata": {},
   "outputs": [],
   "source": [
    "#Операции над элементами матрицы\n",
    "Z = np.array([[4, 5, 0], \n",
    "             [1, 9, 3],              \n",
    "             [5, 1, 1],\n",
    "             [3, 3, 3], \n",
    "             [9, 9, 9], \n",
    "             [4, 7, 1]])"
   ]
  },
  {
   "cell_type": "code",
   "execution_count": 25,
   "metadata": {},
   "outputs": [
    {
     "name": "stdout",
     "output_type": "stream",
     "text": [
      "[ 9 13  7  9 27 12]\n",
      "(array([1, 4, 5], dtype=int32),)\n"
     ]
    }
   ],
   "source": [
    "r = np.sum(Z, axis=1)\n",
    "print(r)\n",
    "print(np.nonzero(r > 10))"
   ]
  },
  {
   "cell_type": "code",
   "execution_count": 26,
   "metadata": {},
   "outputs": [],
   "source": [
    "# Объединение матриц\n",
    "A = np.eye(3)\n",
    "B = np.eye(3)"
   ]
  },
  {
   "cell_type": "code",
   "execution_count": 28,
   "metadata": {},
   "outputs": [
    {
     "name": "stdout",
     "output_type": "stream",
     "text": [
      "[[1. 0. 0.]\n",
      " [0. 1. 0.]\n",
      " [0. 0. 1.]\n",
      " [1. 0. 0.]\n",
      " [0. 1. 0.]\n",
      " [0. 0. 1.]]\n"
     ]
    }
   ],
   "source": [
    "AB = np.vstack((A, B))\n",
    "print(AB)"
   ]
  },
  {
   "cell_type": "code",
   "execution_count": null,
   "metadata": {},
   "outputs": [],
   "source": []
  }
 ],
 "metadata": {
  "kernelspec": {
   "display_name": "Python 3",
   "language": "python",
   "name": "python3"
  },
  "language_info": {
   "codemirror_mode": {
    "name": "ipython",
    "version": 3
   },
   "file_extension": ".py",
   "mimetype": "text/x-python",
   "name": "python",
   "nbconvert_exporter": "python",
   "pygments_lexer": "ipython3",
   "version": "3.6.4"
  }
 },
 "nbformat": 4,
 "nbformat_minor": 2
}
