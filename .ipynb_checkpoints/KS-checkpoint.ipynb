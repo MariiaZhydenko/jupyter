{
 "cells": [
  {
   "cell_type": "code",
   "execution_count": 3,
   "metadata": {},
   "outputs": [],
   "source": [
    "x1 = [5.5, 4.5, 6.6, 5.5, 5.7, 4.44, 5.6, 5.5, 4.38, 4.6, 4.1, 4.41, 4.5, 3.75, 6.3, 4.53, 5.4, 6.85, 5.5, 3.09, 4.6, 4.1, 5.3, 3.17, 3, 2.7, 3.68, 4.98, 7.3, 3.5, 2.8, 3.09, 3, 4, 2.78]\n",
    "x2 = [5.5, 5.44, 3.44, 3.38, 3.7, 4.35, 4.38, 4.1, 7.3, 5.1, 5.1, 4.7, 4.98, 4.6, 6.5, 4.86, 3.7, 3.9, 4.6, 5.32, 2.41, 4.7, 4.18, 4.2, 6.3, 5.6, 4.5, 4.4, 3.06, 4.1, 4.4, 4.4, 5.75, 3.7, 5.3, 7.34, 2.99, 5.5, 5.9, 5.48, 5.1, 4.5, 7.09, 5.9, 5.9, 7.3, 7.18]"
   ]
  },
  {
   "cell_type": "code",
   "execution_count": 4,
   "metadata": {},
   "outputs": [],
   "source": [
    "from scipy import stats"
   ]
  },
  {
   "cell_type": "code",
   "execution_count": 5,
   "metadata": {},
   "outputs": [
    {
     "data": {
      "text/plain": [
       "Ks_2sampResult(statistic=0.17933130699088146, pvalue=0.49754010022342815)"
      ]
     },
     "execution_count": 5,
     "metadata": {},
     "output_type": "execute_result"
    }
   ],
   "source": [
    "stats.ks_2samp(x1, x2)"
   ]
  },
  {
   "cell_type": "code",
   "execution_count": null,
   "metadata": {},
   "outputs": [],
   "source": [
    "#p-значення досить велике, тому приймаємо гіпотезу H0"
   ]
  },
  {
   "cell_type": "code",
   "execution_count": null,
   "metadata": {},
   "outputs": [],
   "source": [
    "#колмогорова-смірнова, порожніх ящиків, критерій знаків, критерій серій, хі-квадрат"
   ]
  }
 ],
 "metadata": {
  "kernelspec": {
   "display_name": "Python 3",
   "language": "python",
   "name": "python3"
  },
  "language_info": {
   "codemirror_mode": {
    "name": "ipython",
    "version": 3
   },
   "file_extension": ".py",
   "mimetype": "text/x-python",
   "name": "python",
   "nbconvert_exporter": "python",
   "pygments_lexer": "ipython3",
   "version": "3.6.4"
  }
 },
 "nbformat": 4,
 "nbformat_minor": 2
}
