{
 "cells": [
  {
   "cell_type": "code",
   "execution_count": null,
   "metadata": {},
   "outputs": [],
   "source": [
    "#колмогорова-смірнова, порожніх ящиків, критерій знаків, критерій серій, хі-квадрат"
   ]
  },
  {
   "cell_type": "code",
   "execution_count": 9,
   "metadata": {},
   "outputs": [],
   "source": [
    "x1 = [5.5, 4.5, 6.6, 5.5, 5.7, 4.44, 5.6, 5.5, 4.38, 4.6, 4.1, 4.41, 4.5, 3.75, 6.3, 4.53, 5.4, 6.85, 5.5, 3.09, 4.6, 4.1, 5.3, 3.17, 3, 2.7, 3.68, 4.98, 7.3, 3.5, 2.8, 3.09, 3, 4, 2.78]\n",
    "x2 = [5.5, 5.44, 3.44, 3.38, 3.7, 4.35, 4.38, 4.1, 7.3, 5.1, 5.1, 4.7, 4.98, 4.6, 6.5, 4.86, 3.7, 3.9, 4.6, 5.32, 2.41, 4.7, 4.18, 4.2, 6.3, 5.6, 4.5, 4.4, 3.06, 4.1, 4.4, 4.4, 5.75, 3.7, 5.3, 7.34, 2.99, 5.5, 5.9, 5.48, 5.1, 4.5, 7.09, 5.9, 5.9, 7.3, 7.18]"
   ]
  },
  {
   "cell_type": "code",
   "execution_count": 10,
   "metadata": {},
   "outputs": [
    {
     "name": "stdout",
     "output_type": "stream",
     "text": [
      "15 38 4\n"
     ]
    }
   ],
   "source": [
    "a1 = []\n",
    "a2 = []\n",
    "a3 = []\n",
    "for i in x1:\n",
    "    if (2<=i<4):\n",
    "        a1.append(x1.count(i))\n",
    "    elif (4<=i<6):\n",
    "        a2.append(x1.count(i))\n",
    "    elif (6<=i<=8):\n",
    "        a3.append(x1.count(i))\n",
    "n11 = sum(a1)\n",
    "n12 = sum(a2)\n",
    "n13 = sum(a3)\n",
    "n1i = [0, n11, n12, n13]\n",
    "print(n11, n12, n13)"
   ]
  },
  {
   "cell_type": "code",
   "execution_count": 11,
   "metadata": {},
   "outputs": [
    {
     "name": "stdout",
     "output_type": "stream",
     "text": [
      "15 59 9\n"
     ]
    }
   ],
   "source": [
    "b1 = []\n",
    "b2 = []\n",
    "b3 = []\n",
    "for i in x2:\n",
    "    if (2<=i<4):\n",
    "        b1.append(x2.count(i))\n",
    "    elif (4<=i<6):\n",
    "        b2.append(x2.count(i))\n",
    "    elif (6<=i<=8):\n",
    "        b3.append(x2.count(i))\n",
    "n21 = sum(b1)\n",
    "n22 = sum(b2)\n",
    "n23 = sum(b3)\n",
    "n2i = [0, n21, n22, n23]\n",
    "print(n21, n22, n23)"
   ]
  },
  {
   "cell_type": "code",
   "execution_count": 12,
   "metadata": {},
   "outputs": [
    {
     "name": "stdout",
     "output_type": "stream",
     "text": [
      "[0, 30, 97, 13] [0, 0.21428571428571427, 0.6928571428571428, 0.09285714285714286] 1.0\n"
     ]
    }
   ],
   "source": [
    "n1 = n11 + n12 + n13\n",
    "n2 = n21 + n22 + n23\n",
    "n = n1 + n2\n",
    "\n",
    "nu = [0, n11 + n21, n12 + n22, n13 + n23]\n",
    "\n",
    "pii = [0, nu[1]/n, nu[2]/n, nu[3]/n]\n",
    "\n",
    "print(nu, pii, sum(pii))"
   ]
  },
  {
   "cell_type": "code",
   "execution_count": 13,
   "metadata": {},
   "outputs": [
    {
     "name": "stdout",
     "output_type": "stream",
     "text": [
      "13.929326327867862\n"
     ]
    }
   ],
   "source": [
    "X2 = 0\n",
    "nx = (n2/n1)**(1/2)\n",
    "nx1 = (n2/n1)**(-1/2)\n",
    "for i in range(1,4):\n",
    "    X2 += ((n1i[i]-n1*pii[i])**2 / n1*pii[i] + (n2i[i]-n2*pii[i])**2 / n2*pii[i])*n\n",
    "print(X2)"
   ]
  },
  {
   "cell_type": "code",
   "execution_count": null,
   "metadata": {},
   "outputs": [],
   "source": [
    "#     X2 += 1/nu[i] * (n1i[i]*nx-n2i[i]*nx1)"
   ]
  }
 ],
 "metadata": {
  "kernelspec": {
   "display_name": "Python 3",
   "language": "python",
   "name": "python3"
  },
  "language_info": {
   "codemirror_mode": {
    "name": "ipython",
    "version": 3
   },
   "file_extension": ".py",
   "mimetype": "text/x-python",
   "name": "python",
   "nbconvert_exporter": "python",
   "pygments_lexer": "ipython3",
   "version": "3.6.4"
  }
 },
 "nbformat": 4,
 "nbformat_minor": 2
}
