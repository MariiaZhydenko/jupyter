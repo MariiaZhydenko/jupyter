{
 "cells": [
  {
   "cell_type": "code",
   "execution_count": 80,
   "metadata": {},
   "outputs": [],
   "source": [
    "from sympy import *"
   ]
  },
  {
   "cell_type": "code",
   "execution_count": 81,
   "metadata": {},
   "outputs": [
    {
     "name": "stdout",
     "output_type": "stream",
     "text": [
      "Введіть праву частину відрізка: 1\n",
      "Введіть ліву частину відрізка: 1.5\n",
      "Введіть похибку: 0.000000005\n"
     ]
    }
   ],
   "source": [
    "#set values\n",
    "#задаємо значення\n",
    "\n",
    "a = float(input('Введіть праву частину відрізка: '))\n",
    "b = float(input('Введіть ліву частину відрізка: '))\n",
    "e = float(input('Введіть похибку: '))"
   ]
  },
  {
   "cell_type": "code",
   "execution_count": 82,
   "metadata": {},
   "outputs": [],
   "source": [
    "#set the function\n",
    "#задаємо функцію\n",
    "\n",
    "x = symbols('x')\n",
    "f = exp(-x) - (1/2)*(sin(x))**2\n",
    "#f = x**3 - 8"
   ]
  },
  {
   "cell_type": "code",
   "execution_count": 83,
   "metadata": {},
   "outputs": [
    {
     "name": "stdout",
     "output_type": "stream",
     "text": [
      "-1.0*sin(x)*cos(x) - exp(-x)\n",
      "1.0*sin(x)**2 - 1.0*cos(x)**2 + exp(-x)\n"
     ]
    }
   ],
   "source": [
    "#find derivatives and print them out\n",
    "#шукаємо похідні та друкуємо їх\n",
    "\n",
    "f1 = f.diff()\n",
    "f2 = f.diff(x, 2)\n",
    "print(f1)\n",
    "print(f2)"
   ]
  },
  {
   "cell_type": "code",
   "execution_count": 84,
   "metadata": {},
   "outputs": [
    {
     "name": "stdout",
     "output_type": "stream",
     "text": [
      "0.0138427320346567\n",
      "-0.274367964001682\n"
     ]
    }
   ],
   "source": [
    "#substitute values to our function and print the result\n",
    "#підставляємо наші значення (кінці відрізка) в функцію та видруковуємо результат\n",
    "\n",
    "fa = f.subs(x, a)\n",
    "fb = f.subs(x, b)\n",
    "print(fa)\n",
    "print(fb)"
   ]
  },
  {
   "cell_type": "code",
   "execution_count": 85,
   "metadata": {},
   "outputs": [],
   "source": [
    "#підготуємо функцію наближення до розвязку\n",
    "\n",
    "def FindRoot(a, b):\n",
    "    a -= (f.subs(x, a) * (b-a)) / (f.subs(x, b)-f.subs(x, a))\n",
    "    b -= f.subs(x, b)/f1.subs(x, b)\n",
    "    return a, b "
   ]
  },
  {
   "cell_type": "code",
   "execution_count": 86,
   "metadata": {},
   "outputs": [
    {
     "name": "stdout",
     "output_type": "stream",
     "text": [
      "1.01696814415831\n"
     ]
    }
   ],
   "source": [
    "#check if our function has a single root\n",
    "#перевіряємо, чи наша функція має єдиний розвязок на заданому відрізку\n",
    "\n",
    "if fa*fb < 0:\n",
    "    while abs(b-a) >= e:\n",
    "        if f.subs(x,a)*f2.subs(x, a) <= 0:\n",
    "            a, b = b, a\n",
    "        a, b = FindRoot(a, b)\n",
    "    else:\n",
    "        x1 = (b+a)/2\n",
    "        print(x1)\n",
    "    \n",
    "else:\n",
    "    print('На заданому відрізку дана функція не має єдиного розвязку. Будь ласка, змініть вхідні дані.')  "
   ]
  },
  {
   "cell_type": "code",
   "execution_count": null,
   "metadata": {},
   "outputs": [],
   "source": []
  }
 ],
 "metadata": {
  "kernelspec": {
   "display_name": "Python 3",
   "language": "python",
   "name": "python3"
  },
  "language_info": {
   "codemirror_mode": {
    "name": "ipython",
    "version": 3
   },
   "file_extension": ".py",
   "mimetype": "text/x-python",
   "name": "python",
   "nbconvert_exporter": "python",
   "pygments_lexer": "ipython3",
   "version": "3.6.4"
  }
 },
 "nbformat": 4,
 "nbformat_minor": 2
}
