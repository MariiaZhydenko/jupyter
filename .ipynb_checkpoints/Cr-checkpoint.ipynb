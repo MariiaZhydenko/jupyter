{
 "cells": [
  {
   "cell_type": "code",
   "execution_count": 5,
   "metadata": {},
   "outputs": [],
   "source": [
    "import numpy as np"
   ]
  },
  {
   "cell_type": "code",
   "execution_count": 12,
   "metadata": {},
   "outputs": [],
   "source": [
    "x1 = [5.5, 4.5, 6.6, 5.5, 5.7, 4.44, 5.6, 5.5, 4.38, 4.6, 4.1, 4.41, 4.5, 3.75, 6.3, 4.53, 5.4, 6.85, 5.5, 3.09, 4.6, 4.1, 5.3, 3.17, 3, 2.7, 3.68, 4.98, 7.3, 3.5, 2.8, 3.09, 3, 4, 2.78]\n",
    "x2 = [5.5, 5.44, 3.44, 3.38, 3.7, 4.35, 4.38, 4.1, 7.3, 5.1, 5.1, 4.7, 4.98, 4.6, 6.5, 4.86, 3.7, 3.9, 4.6, 5.32, 2.41, 4.7, 4.18, 4.2, 6.3, 5.6, 4.5, 4.4, 3.06, 4.1, 4.4, 4.4, 5.75, 3.7, 5.3, 7.34, 2.99, 5.5, 5.9, 5.48, 5.1, 4.5, 7.09, 5.9, 5.9, 7.3, 7.18]"
   ]
  },
  {
   "cell_type": "code",
   "execution_count": 14,
   "metadata": {},
   "outputs": [],
   "source": [
    "x1 = np.array(x1)\n",
    "x2 = np.array(x2[:len(x1)])\n",
    "\n",
    "x12 = x1 - x2"
   ]
  },
  {
   "cell_type": "code",
   "execution_count": 22,
   "metadata": {},
   "outputs": [
    {
     "data": {
      "text/plain": [
       "[0.0,\n",
       " -0.9400000000000004,\n",
       " 3.1599999999999997,\n",
       " 2.12,\n",
       " 2.0,\n",
       " 0.09000000000000075,\n",
       " 1.2199999999999998,\n",
       " 1.4000000000000004,\n",
       " -2.92,\n",
       " -0.5,\n",
       " -1.0,\n",
       " -0.29000000000000004,\n",
       " -0.4800000000000004,\n",
       " -0.8499999999999996,\n",
       " -0.20000000000000018,\n",
       " -0.33000000000000007,\n",
       " 1.7000000000000002,\n",
       " 2.9499999999999997,\n",
       " 0.9000000000000004,\n",
       " -2.2300000000000004,\n",
       " 2.1899999999999995,\n",
       " -0.6000000000000005,\n",
       " 1.12,\n",
       " -1.0300000000000002,\n",
       " -3.3,\n",
       " -2.8999999999999995,\n",
       " -0.8199999999999998,\n",
       " 0.5800000000000001,\n",
       " 4.24,\n",
       " -0.5999999999999996,\n",
       " -1.6000000000000005,\n",
       " -1.3100000000000005,\n",
       " -2.75,\n",
       " 0.2999999999999998,\n",
       " -2.52]"
      ]
     },
     "execution_count": 22,
     "metadata": {},
     "output_type": "execute_result"
    }
   ],
   "source": [
    "x12 = list(x12)\n",
    "x12"
   ]
  },
  {
   "cell_type": "code",
   "execution_count": 21,
   "metadata": {},
   "outputs": [
    {
     "name": "stdout",
     "output_type": "stream",
     "text": [
      "14\n",
      "34\n",
      "1.3333333333333333\n"
     ]
    }
   ],
   "source": [
    "r = 0\n",
    "for i in x12:\n",
    "    if i>0:\n",
    "        r += 1\n",
    "print(r)\n",
    "\n",
    "l = 0\n",
    "for i in x12:\n",
    "    if i!=0:\n",
    "        l += 1\n",
    "print(l)\n",
    "\n",
    "F = (l-r)/(r+1)\n",
    "print(F)\n",
    "\n",
    "#FT(42, 28)\n",
    "#якщо F<FT => H0 приймаємо"
   ]
  },
  {
   "cell_type": "code",
   "execution_count": null,
   "metadata": {},
   "outputs": [],
   "source": []
  }
 ],
 "metadata": {
  "kernelspec": {
   "display_name": "Python 3",
   "language": "python",
   "name": "python3"
  },
  "language_info": {
   "codemirror_mode": {
    "name": "ipython",
    "version": 3
   },
   "file_extension": ".py",
   "mimetype": "text/x-python",
   "name": "python",
   "nbconvert_exporter": "python",
   "pygments_lexer": "ipython3",
   "version": "3.6.4"
  }
 },
 "nbformat": 4,
 "nbformat_minor": 2
}
